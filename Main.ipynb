{
 "cells": [
  {
   "cell_type": "code",
   "execution_count": 1,
   "metadata": {},
   "outputs": [],
   "source": [
    "# Citibike 2019 project, analyzing 2018 date of service trip data\n",
    "# Author: George Chan, Sean Guo"
   ]
  },
  {
   "cell_type": "code",
   "execution_count": 2,
   "metadata": {},
   "outputs": [],
   "source": [
    "# Import library and modules\n",
    "import pandas as pd\n",
    "import glob\n",
    "import numpy as np\n",
    "import os\n",
    "from datetime import timedelta\n",
    "import matplotlib\n",
    "\n",
    "# Future use\n",
    "# https://markhneedham.com/blog/2018/09/18/matplotlib-remove-axis-legend/"
   ]
  },
  {
   "cell_type": "code",
   "execution_count": 3,
   "metadata": {},
   "outputs": [
    {
     "name": "stdout",
     "output_type": "stream",
     "text": [
      "The data are stored in: /Users/Study/Citibike_Data/\n"
     ]
    }
   ],
   "source": [
    "# Define where are the citibke 2018 zipfiles\n",
    "data_folder = r'/Users/Study/Citibike_Data/'\n",
    "print('The data are stored in: ' + data_folder)"
   ]
  },
  {
   "cell_type": "code",
   "execution_count": 4,
   "metadata": {},
   "outputs": [
    {
     "name": "stdout",
     "output_type": "stream",
     "text": [
      "Here are the list of csv zip files you have downloaded.\n",
      "\n",
      "/Users/Study/Citibike_Data/\n",
      "\t01: 201809-citibike-tripdata.csv\n",
      "\t02: 201801-citibike-tripdata.csv\n",
      "\t03: 201803-citibike-tripdata.csv\n",
      "\t04: 201805-citibike-tripdata.csv\n",
      "\t05: 201807-citibike-tripdata.csv\n",
      "\t06: 201811-citibike-tripdata.csv\n",
      "\t07: 201808-citibike-tripdata.csv\n",
      "\t08: 201802-citibike-tripdata.csv\n",
      "\t09: 201812-citibike-tripdata.csv\n",
      "\t10: 201804-citibike-tripdata.csv\n",
      "\t11: 201810-citibike-tripdata.csv\n",
      "\t12: 201806-citibike-tripdata.csv\n"
     ]
    }
   ],
   "source": [
    "# Check what are the files in that folder\n",
    "for folderName, subfolders, filenames in os.walk(data_folder):\n",
    "    print('Here are the list of csv zip files you have downloaded.\\n')\n",
    "    print(folderName)\n",
    "    \n",
    "    number_of_csv_file = 0 # Total count of files read\n",
    "    all_files = []         # List of file path string\n",
    "    \n",
    "    # Reference 01: How to get index within for loop?\n",
    "    # Reference 02: How to pad number with leading zeros?\n",
    "    for filename in filenames:\n",
    "        \n",
    "        # If and only if they are csv files\n",
    "        if filename.endswith('.csv'):\n",
    "            number_of_csv_file += 1\n",
    "            \n",
    "            # Print to terminal to show user what files is found\n",
    "            print('\\t' + str(number_of_csv_file).zfill(2) + ': ' + filename)\n",
    "            all_files.append(data_folder + filename)\n",
    "            \n",
    "    # all_files = all_files.sort()\n",
    "            \n",
    "    # Warning message if you forgot to download all 12 months.\n",
    "    # For our project we want exactly 12 file\n",
    "    if number_of_csv_file != 12:\n",
    "        print('Sorry, I think you are missing some files?')\n",
    "        \n",
    "        # Attempt to safely exit the program\n",
    "        raise SystemExit"
   ]
  },
  {
   "cell_type": "code",
   "execution_count": 5,
   "metadata": {},
   "outputs": [
    {
     "name": "stdout",
     "output_type": "stream",
     "text": [
      "201801-citibike-tripdata.csv size: (718994, 15)\n",
      "201802-citibike-tripdata.csv size: (843114, 15)\n",
      "201803-citibike-tripdata.csv size: (976672, 15)\n",
      "201804-citibike-tripdata.csv size: (1307543, 15)\n",
      "201805-citibike-tripdata.csv size: (1824710, 15)\n",
      "201806-citibike-tripdata.csv size: (1953103, 15)\n",
      "201807-citibike-tripdata.csv size: (1913625, 15)\n",
      "201808-citibike-tripdata.csv size: (1977177, 15)\n",
      "201809-citibike-tripdata.csv size: (1877884, 15)\n",
      "201810-citibike-tripdata.csv size: (1878657, 15)\n",
      "201811-citibike-tripdata.csv size: (1260355, 15)\n",
      "201812-citibike-tripdata.csv size: (1016505, 15)\n",
      "\n",
      "There are 17,548,339 number of records.\n",
      "Before dropping NaN: 17,548,339\n",
      "After dropping NaN:  17,545,842\n"
     ]
    }
   ],
   "source": [
    "# Creating a list of all CSV file in the path directory\n",
    "# all_files = glob.glob(data_folder + \"/*.csv\")\n",
    "\n",
    "# tempCitibike list that store the file data frame\n",
    "tempCitibike = []\n",
    "\n",
    "# Track how many records total\n",
    "totalRecordCount = 0\n",
    "\n",
    "# Loop and append the dataframes into tempCitibke List\n",
    "for filename in sorted(all_files):\n",
    "    # Filename is the path/file.ext\n",
    "    print(os.path.basename(filename), end=\" \")\n",
    "    \n",
    "    # df contains the entire dataset (CSV)\n",
    "    df = pd.read_csv(filename) \n",
    "    \n",
    "    # How to filter by values\n",
    "    # https://stackoverflow.com/q/17071871\n",
    "\n",
    "    # Experiment to see if only using annual membership will show a different\n",
    "    # df = df.loc[df['usertype'] == 'Subscriber']\n",
    "    \n",
    "    # Radnomly select 10% of the data, with random_state = 1\n",
    "    # df = df.sample(frac = 0.1, replace = True, random_state = 1)\n",
    "    \n",
    "    # Output the (rowCount, columnCount) to terminal\n",
    "    print(\"size: \" + str(df.shape))\n",
    "    \n",
    "    totalRecordCount += df.shape[0]\n",
    "    tempCitibike.append(df)\n",
    "\n",
    "# Combine the tempCitibike dfs together\n",
    "citibike = pd.concat(tempCitibike)\n",
    "print(\"\\nThere are \" + \"{:,}\".format(totalRecordCount) + \" number of records.\")\n",
    "print(\"Before dropping NaN: \" + \"{:,}\".format(citibike.shape[0]))\n",
    "\n",
    "# Drop rows with any (missing) variables\n",
    "# Improve performance by not using inplace option\n",
    "# Reference: https://stackoverflow.com/q/22532302\n",
    "citibike = citibike.dropna()\n",
    "\n",
    "print(\"After dropping NaN:  \" + \"{:,}\".format(citibike.shape[0]))"
   ]
  },
  {
   "cell_type": "code",
   "execution_count": 6,
   "metadata": {},
   "outputs": [
    {
     "data": {
      "text/html": [
       "<div>\n",
       "<style scoped>\n",
       "    .dataframe tbody tr th:only-of-type {\n",
       "        vertical-align: middle;\n",
       "    }\n",
       "\n",
       "    .dataframe tbody tr th {\n",
       "        vertical-align: top;\n",
       "    }\n",
       "\n",
       "    .dataframe thead th {\n",
       "        text-align: right;\n",
       "    }\n",
       "</style>\n",
       "<table border=\"1\" class=\"dataframe\">\n",
       "  <thead>\n",
       "    <tr style=\"text-align: right;\">\n",
       "      <th></th>\n",
       "      <th>tripduration</th>\n",
       "      <th>starttime</th>\n",
       "      <th>stoptime</th>\n",
       "      <th>start station id</th>\n",
       "      <th>start station name</th>\n",
       "      <th>start station latitude</th>\n",
       "      <th>start station longitude</th>\n",
       "      <th>end station id</th>\n",
       "      <th>end station name</th>\n",
       "      <th>end station latitude</th>\n",
       "      <th>end station longitude</th>\n",
       "      <th>bikeid</th>\n",
       "      <th>usertype</th>\n",
       "      <th>birth year</th>\n",
       "      <th>gender</th>\n",
       "    </tr>\n",
       "  </thead>\n",
       "  <tbody>\n",
       "    <tr>\n",
       "      <th>0</th>\n",
       "      <td>970</td>\n",
       "      <td>2018-01-01 13:50:57.4340</td>\n",
       "      <td>2018-01-01 14:07:08.1860</td>\n",
       "      <td>72.0</td>\n",
       "      <td>W 52 St &amp; 11 Ave</td>\n",
       "      <td>40.767272</td>\n",
       "      <td>-73.993929</td>\n",
       "      <td>505.0</td>\n",
       "      <td>6 Ave &amp; W 33 St</td>\n",
       "      <td>40.749013</td>\n",
       "      <td>-73.988484</td>\n",
       "      <td>31956</td>\n",
       "      <td>Subscriber</td>\n",
       "      <td>1992</td>\n",
       "      <td>1</td>\n",
       "    </tr>\n",
       "    <tr>\n",
       "      <th>1</th>\n",
       "      <td>723</td>\n",
       "      <td>2018-01-01 15:33:30.1820</td>\n",
       "      <td>2018-01-01 15:45:33.3410</td>\n",
       "      <td>72.0</td>\n",
       "      <td>W 52 St &amp; 11 Ave</td>\n",
       "      <td>40.767272</td>\n",
       "      <td>-73.993929</td>\n",
       "      <td>3255.0</td>\n",
       "      <td>8 Ave &amp; W 31 St</td>\n",
       "      <td>40.750585</td>\n",
       "      <td>-73.994685</td>\n",
       "      <td>32536</td>\n",
       "      <td>Subscriber</td>\n",
       "      <td>1969</td>\n",
       "      <td>1</td>\n",
       "    </tr>\n",
       "    <tr>\n",
       "      <th>2</th>\n",
       "      <td>496</td>\n",
       "      <td>2018-01-01 15:39:18.3370</td>\n",
       "      <td>2018-01-01 15:47:35.1720</td>\n",
       "      <td>72.0</td>\n",
       "      <td>W 52 St &amp; 11 Ave</td>\n",
       "      <td>40.767272</td>\n",
       "      <td>-73.993929</td>\n",
       "      <td>525.0</td>\n",
       "      <td>W 34 St &amp; 11 Ave</td>\n",
       "      <td>40.755942</td>\n",
       "      <td>-74.002116</td>\n",
       "      <td>16069</td>\n",
       "      <td>Subscriber</td>\n",
       "      <td>1956</td>\n",
       "      <td>1</td>\n",
       "    </tr>\n",
       "    <tr>\n",
       "      <th>3</th>\n",
       "      <td>306</td>\n",
       "      <td>2018-01-01 15:40:13.3720</td>\n",
       "      <td>2018-01-01 15:45:20.1910</td>\n",
       "      <td>72.0</td>\n",
       "      <td>W 52 St &amp; 11 Ave</td>\n",
       "      <td>40.767272</td>\n",
       "      <td>-73.993929</td>\n",
       "      <td>447.0</td>\n",
       "      <td>8 Ave &amp; W 52 St</td>\n",
       "      <td>40.763707</td>\n",
       "      <td>-73.985162</td>\n",
       "      <td>31781</td>\n",
       "      <td>Subscriber</td>\n",
       "      <td>1974</td>\n",
       "      <td>1</td>\n",
       "    </tr>\n",
       "    <tr>\n",
       "      <th>4</th>\n",
       "      <td>306</td>\n",
       "      <td>2018-01-01 18:14:51.5680</td>\n",
       "      <td>2018-01-01 18:19:57.6420</td>\n",
       "      <td>72.0</td>\n",
       "      <td>W 52 St &amp; 11 Ave</td>\n",
       "      <td>40.767272</td>\n",
       "      <td>-73.993929</td>\n",
       "      <td>3356.0</td>\n",
       "      <td>Amsterdam Ave &amp; W 66 St</td>\n",
       "      <td>40.774667</td>\n",
       "      <td>-73.984706</td>\n",
       "      <td>30319</td>\n",
       "      <td>Subscriber</td>\n",
       "      <td>1992</td>\n",
       "      <td>1</td>\n",
       "    </tr>\n",
       "  </tbody>\n",
       "</table>\n",
       "</div>"
      ],
      "text/plain": [
       "   tripduration                 starttime                  stoptime  \\\n",
       "0           970  2018-01-01 13:50:57.4340  2018-01-01 14:07:08.1860   \n",
       "1           723  2018-01-01 15:33:30.1820  2018-01-01 15:45:33.3410   \n",
       "2           496  2018-01-01 15:39:18.3370  2018-01-01 15:47:35.1720   \n",
       "3           306  2018-01-01 15:40:13.3720  2018-01-01 15:45:20.1910   \n",
       "4           306  2018-01-01 18:14:51.5680  2018-01-01 18:19:57.6420   \n",
       "\n",
       "   start station id start station name  start station latitude  \\\n",
       "0              72.0   W 52 St & 11 Ave               40.767272   \n",
       "1              72.0   W 52 St & 11 Ave               40.767272   \n",
       "2              72.0   W 52 St & 11 Ave               40.767272   \n",
       "3              72.0   W 52 St & 11 Ave               40.767272   \n",
       "4              72.0   W 52 St & 11 Ave               40.767272   \n",
       "\n",
       "   start station longitude  end station id         end station name  \\\n",
       "0               -73.993929           505.0          6 Ave & W 33 St   \n",
       "1               -73.993929          3255.0          8 Ave & W 31 St   \n",
       "2               -73.993929           525.0         W 34 St & 11 Ave   \n",
       "3               -73.993929           447.0          8 Ave & W 52 St   \n",
       "4               -73.993929          3356.0  Amsterdam Ave & W 66 St   \n",
       "\n",
       "   end station latitude  end station longitude  bikeid    usertype  \\\n",
       "0             40.749013             -73.988484   31956  Subscriber   \n",
       "1             40.750585             -73.994685   32536  Subscriber   \n",
       "2             40.755942             -74.002116   16069  Subscriber   \n",
       "3             40.763707             -73.985162   31781  Subscriber   \n",
       "4             40.774667             -73.984706   30319  Subscriber   \n",
       "\n",
       "   birth year  gender  \n",
       "0        1992       1  \n",
       "1        1969       1  \n",
       "2        1956       1  \n",
       "3        1974       1  \n",
       "4        1992       1  "
      ]
     },
     "execution_count": 6,
     "metadata": {},
     "output_type": "execute_result"
    }
   ],
   "source": [
    "# Sample my dataset\n",
    "citibike.head()"
   ]
  },
  {
   "cell_type": "markdown",
   "metadata": {},
   "source": [
    "# Question 01: What is daily and monthly total ridership in 2018?"
   ]
  },
  {
   "cell_type": "code",
   "execution_count": 7,
   "metadata": {},
   "outputs": [
    {
     "name": "stdout",
     "output_type": "stream",
     "text": [
      "Type: <class 'str'>\n",
      "2018-01-01 13:50:57.4340\n"
     ]
    }
   ],
   "source": [
    "# What is the type of the starttime?\n",
    "print('Type: ' + str(type(citibike['starttime'].values[0])))\n",
    "print(citibike['starttime'].values[0])"
   ]
  },
  {
   "cell_type": "code",
   "execution_count": 8,
   "metadata": {},
   "outputs": [],
   "source": [
    "# Need to convert start_time and stop_time to datetime\n",
    "from datetime import datetime\n",
    "\n",
    "formatString = '%Y-%m-%d %H:%M:%S.%f'\n",
    "\n",
    "# Reference 03: Convert datetime column into \n",
    "citibike['starttime'] = pd.to_datetime(citibike['starttime'], format=formatString)\n",
    "citibike['stoptime'] = pd.to_datetime(citibike['stoptime'], format=formatString)"
   ]
  },
  {
   "cell_type": "code",
   "execution_count": 9,
   "metadata": {},
   "outputs": [
    {
     "name": "stdout",
     "output_type": "stream",
     "text": [
      "Type: <class 'numpy.datetime64'>\n",
      "2018-01-01T13:50:57.434000000\n"
     ]
    }
   ],
   "source": [
    "# Confirm such convertion work, should be datetime64!\n",
    "print('Type: ' + str(type(citibike['starttime'].values[0])))\n",
    "print(citibike['starttime'].values[0])"
   ]
  },
  {
   "cell_type": "code",
   "execution_count": 10,
   "metadata": {},
   "outputs": [
    {
     "data": {
      "text/html": [
       "<div>\n",
       "<style scoped>\n",
       "    .dataframe tbody tr th:only-of-type {\n",
       "        vertical-align: middle;\n",
       "    }\n",
       "\n",
       "    .dataframe tbody tr th {\n",
       "        vertical-align: top;\n",
       "    }\n",
       "\n",
       "    .dataframe thead th {\n",
       "        text-align: right;\n",
       "    }\n",
       "</style>\n",
       "<table border=\"1\" class=\"dataframe\">\n",
       "  <thead>\n",
       "    <tr style=\"text-align: right;\">\n",
       "      <th></th>\n",
       "      <th>starttime</th>\n",
       "    </tr>\n",
       "  </thead>\n",
       "  <tbody>\n",
       "    <tr>\n",
       "      <th>0</th>\n",
       "      <td>2018-01</td>\n",
       "    </tr>\n",
       "    <tr>\n",
       "      <th>1</th>\n",
       "      <td>2018-01</td>\n",
       "    </tr>\n",
       "    <tr>\n",
       "      <th>2</th>\n",
       "      <td>2018-01</td>\n",
       "    </tr>\n",
       "    <tr>\n",
       "      <th>3</th>\n",
       "      <td>2018-01</td>\n",
       "    </tr>\n",
       "    <tr>\n",
       "      <th>4</th>\n",
       "      <td>2018-01</td>\n",
       "    </tr>\n",
       "  </tbody>\n",
       "</table>\n",
       "</div>"
      ],
      "text/plain": [
       "  starttime\n",
       "0   2018-01\n",
       "1   2018-01\n",
       "2   2018-01\n",
       "3   2018-01\n",
       "4   2018-01"
      ]
     },
     "execution_count": 10,
     "metadata": {},
     "output_type": "execute_result"
    }
   ],
   "source": [
    "# Reference 03: Group by month on datetime columns\n",
    "# Create another pandas dataframe that only has 1 columns\n",
    "citibike_monthly_df = citibike.filter(['starttime']) # Monthly dataframe\n",
    "citibike_daily_df = citibike.filter(['starttime'])   # Daily dataframe\n",
    "\n",
    "# Each of the starttime is now converted into YYYY-MM\n",
    "citibike_monthly_df.starttime = pd.to_datetime(citibike_monthly_df.starttime).dt.to_period('m')\n",
    "citibike_daily_df.starttime = pd.to_datetime(citibike_daily_df.starttime).dt.to_period('d')\n",
    "\n",
    "# Confirm if they are correct\n",
    "citibike_daily_df.head()\n",
    "citibike_monthly_df.head()"
   ]
  },
  {
   "cell_type": "code",
   "execution_count": 11,
   "metadata": {},
   "outputs": [],
   "source": [
    "# Get frequency count of ridership data by month and day\n",
    "monthly_answer = citibike_monthly_df.groupby(['starttime']).size()\n",
    "daily_answer = citibike_daily_df.groupby(['starttime']).size()"
   ]
  },
  {
   "cell_type": "code",
   "execution_count": 12,
   "metadata": {},
   "outputs": [
    {
     "data": {
      "text/plain": [
       "pandas.core.series.Series"
      ]
     },
     "execution_count": 12,
     "metadata": {},
     "output_type": "execute_result"
    }
   ],
   "source": [
    "# Checking to see what is monthly_answer type.\n",
    "type(monthly_answer)"
   ]
  },
  {
   "cell_type": "code",
   "execution_count": 13,
   "metadata": {},
   "outputs": [
    {
     "data": {
      "text/plain": [
       "<matplotlib.axes._subplots.AxesSubplot at 0x11c262d68>"
      ]
     },
     "execution_count": 13,
     "metadata": {},
     "output_type": "execute_result"
    }
   ],
   "source": [
    "# Draw a basic plot for the monthly ridership data\n",
    "monthly_answer.plot(\n",
    "    figsize = (20,10), \n",
    "    kind = 'bar',\n",
    "    title = '2018 Monthly Citibike Ridership Count',\n",
    "    fontsize = 14,\n",
    "    rot=0)\n",
    "\n",
    "# Finally learned how to do it, you have to assign it to an object first.\n",
    "# Reference: https://stackoverflow.com/a/21487560\n",
    "\n",
    "# Then use set_xlable ...\n",
    "# ax.set_xlabel('')\n",
    "\n",
    "# Very complicated, \n",
    "# Reference: https://stackoverflow.com/a/25973637\n",
    "# ax.get_yaxis().set_major_formatter(\n",
    "#    matplotlib.ticker.FuncFormatter(lambda y, p: format(int(y), ',')))"
   ]
  },
  {
   "cell_type": "code",
   "execution_count": 14,
   "metadata": {},
   "outputs": [
    {
     "data": {
      "text/plain": [
       "<matplotlib.axes._subplots.AxesSubplot at 0x11db28b70>"
      ]
     },
     "execution_count": 14,
     "metadata": {},
     "output_type": "execute_result"
    },
    {
     "data": {
      "image/png": "[encoded data removed]",
      "text/plain": [
       "<Figure size 1440x720 with 1 Axes>"
      ]
     },
     "metadata": {
      "needs_background": "light"
     },
     "output_type": "display_data"
    }
   ],
   "source": [
    "# Create a monthly temperature dictionary, data otained from google.\n",
    "# probably need to find a way to get daily temperature in order to do more \n",
    "# in depth analysis and build a regression model.\n",
    "temperature_dict = {\n",
    "    'Month':['2018-01', \n",
    "             '2018-02',\n",
    "             '2018-03',\n",
    "             '2018-04',\n",
    "             '2018-05',\n",
    "             '2018-06',\n",
    "             '2018-07',\n",
    "             '2018-08',\n",
    "             '2018-09',\n",
    "             '2018-10',\n",
    "             '2018-11',\n",
    "             '2018-12'],\n",
    "    'Temperature':[32.5, 35.5, 42.5, 53, 62.5, 71.5, 76.5, 75.5, 68, 57, 48, 37.5]\n",
    "}\n",
    "\n",
    "# Create a dataframe using the dictionary data\n",
    "temperature_df = pd.DataFrame.from_dict(temperature_dict)\n",
    "\n",
    "# Rename the columns properly\n",
    "temperature_df = temperature_df.rename(index=str, columns={\"Month\": \"Month\", \"Temperature\": \"Temperature\"})\n",
    "\n",
    "# Learned how to add x & y axis label\n",
    "temperature_df.plot(\n",
    "    x = 'Month',\n",
    "    y = 'Temperature',\n",
    "    figsize = (20,10), \n",
    "    kind = 'line',\n",
    "    title = '2018 Average Temperature',\n",
    "    fontsize = 14,\n",
    "    linewidth = 4.0, \n",
    "    markeredgewidth = 10.0,\n",
    "    linestyle = '--', \n",
    "    marker = 'o',\n",
    "    rot = 0)"
   ]
  },
  {
   "cell_type": "code",
   "execution_count": 15,
   "metadata": {},
   "outputs": [
    {
     "data": {
      "text/plain": [
       "<matplotlib.axes._subplots.AxesSubplot at 0x11db9f828>"
      ]
     },
     "execution_count": 15,
     "metadata": {},
     "output_type": "execute_result"
    },
    {
     "data": {
      "image/png": "[encoded data removed]",
      "text/plain": [
       "<Figure size 1440x720 with 1 Axes>"
      ]
     },
     "metadata": {
      "needs_background": "light"
     },
     "output_type": "display_data"
    }
   ],
   "source": [
    "daily_answer.plot(\n",
    "    figsize = (20,10),\n",
    "    kind = 'bar',\n",
    "    title = '2018 Monthly Citibike Ridership Count',\n",
    "    fontsize = 14,\n",
    "    legend=False)"
   ]
  },
  {
   "cell_type": "markdown",
   "metadata": {},
   "source": [
    "# Question 02: Pending"
   ]
  },
  {
   "cell_type": "code",
   "execution_count": 16,
   "metadata": {},
   "outputs": [],
   "source": [
    "# Enter Python & Pandas Code here :)"
   ]
  },
  {
   "cell_type": "markdown",
   "metadata": {},
   "source": [
    "# Question 03: What is the most / least popular station?"
   ]
  },
  {
   "cell_type": "code",
   "execution_count": 17,
   "metadata": {},
   "outputs": [
    {
     "name": "stdout",
     "output_type": "stream",
     "text": [
      "The most popular start station: Pershing Square North (150,257 times)\n",
      "The most popular end station:   Pershing Square North (149,932 times)\n",
      "\n",
      "From Wiki: Pershing Square is a public square in Manhattan, New York City. \n",
      "Located where Park Avenue and 42nd Street intersect in front of Grand Central Terminal.\n",
      "The main roadway of Park Avenue crosses over 42nd Street on the Park Avenue Viaduct. \n",
      "It is also known as the Pershing Square Viaduct.\n"
     ]
    }
   ],
   "source": [
    "# Most busy start station\n",
    "# https://stackoverflow.com/q/29836477\n",
    "# http://pandas.pydata.org/pandas-docs/stable/reference/api/pandas.DataFrame.sort_values.html\n",
    "key = 'start station name'\n",
    "start_station_df = citibike.groupby(key)[key].count().reset_index(name = 'count')\n",
    "start_station_df.sort_values(by = 'count', ascending = False, inplace = True)\n",
    "\n",
    "# The most popular start stations award goes to...\n",
    "print('The most popular start station: ' + str(start_station_df.iloc[0][0]), end = '')\n",
    "print(' ({:,} times)'.format(start_station_df.iloc[0][1]))\n",
    "\n",
    "# Most busy end station\n",
    "key = 'end station name'\n",
    "end_station_df = citibike.groupby(key)[key].count().reset_index(name = 'count')\n",
    "end_station_df.sort_values(by = 'count', ascending = False, inplace = True)\n",
    "\n",
    "print('The most popular end station:   ' + str(end_station_df.iloc[0][0]), end = '')\n",
    "print(' ({:,} times)'.format(end_station_df.iloc[0][1]))\n",
    "\n",
    "# Some information about this station\n",
    "print('\\nFrom Wiki: Pershing Square is a public square in Manhattan, New York City. ')\n",
    "print('Located where Park Avenue and 42nd Street intersect in front of Grand Central Terminal.')\n",
    "print('The main roadway of Park Avenue crosses over 42nd Street on the Park Avenue Viaduct. ')\n",
    "print('It is also known as the Pershing Square Viaduct.')\n",
    "\n",
    "# Top 10 one way direction...\n",
    "# Chart Annual rider vs. Weekly rider vs. Single rider\n",
    "\n",
    "# School station analysis (Where do they go?)\n",
    "# Male and Female trips\n",
    "# Age Group\n",
    "\n",
    "# Longest trip (Distance formula)\n",
    "# Shortest trip (Distance formula)\n",
    "# Holiday trip (Federal Holiday)"
   ]
  },
  {
   "cell_type": "code",
   "execution_count": 18,
   "metadata": {},
   "outputs": [
    {
     "name": "stdout",
     "output_type": "stream",
     "text": [
      "The most popular ride is : E 7 St & Avenue A to Cooper Square & Astor Pl (7249 times)\n",
      "The least popular ride is: Lafayette Ave & St James Pl to Madison St & Clinton St (1 times)\n"
     ]
    }
   ],
   "source": [
    "# https://stackoverflow.com/q/54009788\n",
    "# This analysis exclude the trip where they start and end at the same station\n",
    "# Because it is actually central park, I am guessing for tourist?\n",
    "\n",
    "# Do not want the trip start and end at the same place\n",
    "citibike_trip = citibike[citibike['start station name'] != citibike['end station name']]\n",
    "\n",
    "# Create a subset dataframe with only start & end station name\n",
    "citibike_trip = citibike_trip.filter(['start station name', 'end station name'])\n",
    "\n",
    "# Create the trip string\n",
    "citibike_trip['trip'] = citibike_trip['start station name'] + ' to ' + citibike_trip['end station name']\n",
    "\n",
    "# Group by trip and add count column\n",
    "trip_df = citibike_trip.groupby('trip')['trip'].count().reset_index(name = 'count')\n",
    "trip_df.sort_values(by = 'count', ascending = False, inplace = True)\n",
    "\n",
    "# Print out the result\n",
    "print('The most popular ride is : ' + trip_df.iloc[0][0], end = '')\n",
    "print(' ({} times)'.format(trip_df.iloc[0][1]))\n",
    "print('The least popular ride is: ' + trip_df.iloc[-1][0], end = '')\n",
    "print(' ({} times)'.format(trip_df.iloc[-1][1]))"
   ]
  },
  {
   "cell_type": "markdown",
   "metadata": {},
   "source": [
    "# Top 10 poupar trips in 2018"
   ]
  },
  {
   "cell_type": "code",
   "execution_count": 19,
   "metadata": {},
   "outputs": [
    {
     "data": {
      "text/html": [
       "<div>\n",
       "<style scoped>\n",
       "    .dataframe tbody tr th:only-of-type {\n",
       "        vertical-align: middle;\n",
       "    }\n",
       "\n",
       "    .dataframe tbody tr th {\n",
       "        vertical-align: top;\n",
       "    }\n",
       "\n",
       "    .dataframe thead th {\n",
       "        text-align: right;\n",
       "    }\n",
       "</style>\n",
       "<table border=\"1\" class=\"dataframe\">\n",
       "  <thead>\n",
       "    <tr style=\"text-align: right;\">\n",
       "      <th></th>\n",
       "      <th>trip</th>\n",
       "      <th>count</th>\n",
       "    </tr>\n",
       "  </thead>\n",
       "  <tbody>\n",
       "    <tr>\n",
       "      <th>160153</th>\n",
       "      <td>E 7 St &amp; Avenue A to Cooper Square &amp; Astor Pl</td>\n",
       "      <td>7249</td>\n",
       "    </tr>\n",
       "    <tr>\n",
       "      <th>86679</th>\n",
       "      <td>Central Park S &amp; 6 Ave to 5 Ave &amp; E 88 St</td>\n",
       "      <td>6215</td>\n",
       "    </tr>\n",
       "    <tr>\n",
       "      <th>269319</th>\n",
       "      <td>S 4 St &amp; Wythe Ave to N 6 St &amp; Bedford Ave</td>\n",
       "      <td>5456</td>\n",
       "    </tr>\n",
       "    <tr>\n",
       "      <th>243638</th>\n",
       "      <td>N 6 St &amp; Bedford Ave to S 4 St &amp; Wythe Ave</td>\n",
       "      <td>5137</td>\n",
       "    </tr>\n",
       "    <tr>\n",
       "      <th>306724</th>\n",
       "      <td>W 21 St &amp; 6 Ave to 9 Ave &amp; W 22 St</td>\n",
       "      <td>4996</td>\n",
       "    </tr>\n",
       "    <tr>\n",
       "      <th>254705</th>\n",
       "      <td>Pershing Square North to W 33 St &amp; 7 Ave</td>\n",
       "      <td>4663</td>\n",
       "    </tr>\n",
       "    <tr>\n",
       "      <th>254215</th>\n",
       "      <td>Pershing Square North to Broadway &amp; W 32 St</td>\n",
       "      <td>4465</td>\n",
       "    </tr>\n",
       "    <tr>\n",
       "      <th>108599</th>\n",
       "      <td>DeKalb Ave &amp; Vanderbilt Ave to DeKalb Ave &amp; Hu...</td>\n",
       "      <td>4340</td>\n",
       "    </tr>\n",
       "    <tr>\n",
       "      <th>8613</th>\n",
       "      <td>12 Ave &amp; W 40 St to West St &amp; Chambers St</td>\n",
       "      <td>4163</td>\n",
       "    </tr>\n",
       "    <tr>\n",
       "      <th>254352</th>\n",
       "      <td>Pershing Square North to E 24 St &amp; Park Ave S</td>\n",
       "      <td>4116</td>\n",
       "    </tr>\n",
       "  </tbody>\n",
       "</table>\n",
       "</div>"
      ],
      "text/plain": [
       "                                                     trip  count\n",
       "160153      E 7 St & Avenue A to Cooper Square & Astor Pl   7249\n",
       "86679           Central Park S & 6 Ave to 5 Ave & E 88 St   6215\n",
       "269319         S 4 St & Wythe Ave to N 6 St & Bedford Ave   5456\n",
       "243638         N 6 St & Bedford Ave to S 4 St & Wythe Ave   5137\n",
       "306724                 W 21 St & 6 Ave to 9 Ave & W 22 St   4996\n",
       "254705           Pershing Square North to W 33 St & 7 Ave   4663\n",
       "254215        Pershing Square North to Broadway & W 32 St   4465\n",
       "108599  DeKalb Ave & Vanderbilt Ave to DeKalb Ave & Hu...   4340\n",
       "8613            12 Ave & W 40 St to West St & Chambers St   4163\n",
       "254352      Pershing Square North to E 24 St & Park Ave S   4116"
      ]
     },
     "execution_count": 19,
     "metadata": {},
     "output_type": "execute_result"
    }
   ],
   "source": [
    "# Take a look at the top 10 popular trips\n",
    "trip_df.head(10)"
   ]
  },
  {
   "cell_type": "markdown",
   "metadata": {},
   "source": [
    "# What are the type of membership (Annual members or paid per ride?)"
   ]
  },
  {
   "cell_type": "code",
   "execution_count": 20,
   "metadata": {},
   "outputs": [
    {
     "data": {
      "text/html": [
       "<div>\n",
       "<style scoped>\n",
       "    .dataframe tbody tr th:only-of-type {\n",
       "        vertical-align: middle;\n",
       "    }\n",
       "\n",
       "    .dataframe tbody tr th {\n",
       "        vertical-align: top;\n",
       "    }\n",
       "\n",
       "    .dataframe thead th {\n",
       "        text-align: right;\n",
       "    }\n",
       "</style>\n",
       "<table border=\"1\" class=\"dataframe\">\n",
       "  <thead>\n",
       "    <tr style=\"text-align: right;\">\n",
       "      <th></th>\n",
       "      <th>count</th>\n",
       "    </tr>\n",
       "    <tr>\n",
       "      <th>usertype</th>\n",
       "      <th></th>\n",
       "    </tr>\n",
       "  </thead>\n",
       "  <tbody>\n",
       "    <tr>\n",
       "      <th>Customer</th>\n",
       "      <td>1932472</td>\n",
       "    </tr>\n",
       "    <tr>\n",
       "      <th>Subscriber</th>\n",
       "      <td>15613370</td>\n",
       "    </tr>\n",
       "  </tbody>\n",
       "</table>\n",
       "</div>"
      ],
      "text/plain": [
       "               count\n",
       "usertype            \n",
       "Customer     1932472\n",
       "Subscriber  15613370"
      ]
     },
     "execution_count": 20,
     "metadata": {},
     "output_type": "execute_result"
    }
   ],
   "source": [
    "membership_df = citibike.groupby('usertype')['usertype'].count()\n",
    "membership_df = membership_df.reset_index(name = 'count')\n",
    "membership_df = membership_df.set_index(['usertype'])\n",
    "\n",
    "# Set the index so it will print properly\n",
    "membership_df"
   ]
  },
  {
   "cell_type": "code",
   "execution_count": 21,
   "metadata": {},
   "outputs": [
    {
     "data": {
      "text/plain": [
       "<matplotlib.axes._subplots.AxesSubplot at 0x188e44828>"
      ]
     },
     "execution_count": 21,
     "metadata": {},
     "output_type": "execute_result"
    },
    {
     "data": {
      "image/png": "[encoded data removed]",
      "text/plain": [
       "<Figure size 432x288 with 1 Axes>"
      ]
     },
     "metadata": {
      "needs_background": "light"
     },
     "output_type": "display_data"
    }
   ],
   "source": [
    "# Reference: https://markhneedham.com/blog/2018/09/18/matplotlib-remove-axis-legend/\n",
    "membership_df.plot(\n",
    "    title = '2018 Citibike Rider Membership Data', \n",
    "    fontsize = 14,\n",
    "    kind = 'bar',\n",
    "    rot = 0,\n",
    "    legend = None)"
   ]
  },
  {
   "cell_type": "code",
   "execution_count": 22,
   "metadata": {},
   "outputs": [
    {
     "data": {
      "text/html": [
       "<div>\n",
       "<style scoped>\n",
       "    .dataframe tbody tr th:only-of-type {\n",
       "        vertical-align: middle;\n",
       "    }\n",
       "\n",
       "    .dataframe tbody tr th {\n",
       "        vertical-align: top;\n",
       "    }\n",
       "\n",
       "    .dataframe thead th {\n",
       "        text-align: right;\n",
       "    }\n",
       "</style>\n",
       "<table border=\"1\" class=\"dataframe\">\n",
       "  <thead>\n",
       "    <tr style=\"text-align: right;\">\n",
       "      <th></th>\n",
       "      <th>count</th>\n",
       "    </tr>\n",
       "    <tr>\n",
       "      <th>gender</th>\n",
       "      <th></th>\n",
       "    </tr>\n",
       "  </thead>\n",
       "  <tbody>\n",
       "    <tr>\n",
       "      <th>0</th>\n",
       "      <td>1484282</td>\n",
       "    </tr>\n",
       "    <tr>\n",
       "      <th>1</th>\n",
       "      <td>11969615</td>\n",
       "    </tr>\n",
       "    <tr>\n",
       "      <th>2</th>\n",
       "      <td>4091945</td>\n",
       "    </tr>\n",
       "  </tbody>\n",
       "</table>\n",
       "</div>"
      ],
      "text/plain": [
       "           count\n",
       "gender          \n",
       "0        1484282\n",
       "1       11969615\n",
       "2        4091945"
      ]
     },
     "execution_count": 22,
     "metadata": {},
     "output_type": "execute_result"
    }
   ],
   "source": [
    "gender_df = citibike.groupby('gender')['gender'].count()\n",
    "gender_df = gender_df.reset_index(name = 'count')\n",
    "gender_df = gender_df.set_index(['gender'])\n",
    "\n",
    "# Set the index so it will print properly\n",
    "gender_df"
   ]
  },
  {
   "cell_type": "code",
   "execution_count": 23,
   "metadata": {},
   "outputs": [
    {
     "data": {
      "text/plain": [
       "<matplotlib.axes._subplots.AxesSubplot at 0x11c24f6a0>"
      ]
     },
     "execution_count": 23,
     "metadata": {},
     "output_type": "execute_result"
    },
    {
     "data": {
      "image/png": "[encoded data removed]",
      "text/plain": [
       "<Figure size 432x288 with 1 Axes>"
      ]
     },
     "metadata": {
      "needs_background": "light"
     },
     "output_type": "display_data"
    }
   ],
   "source": [
    "# Reference: https://markhneedham.com/blog/2018/09/18/matplotlib-remove-axis-legend/\n",
    "gender_df.plot(\n",
    "    title = '2018 Citibike Rider Gender',\n",
    "    fontsize = 14,\n",
    "    kind = 'bar',\n",
    "    rot = 0,\n",
    "    legend = None)"
   ]
  },
  {
   "cell_type": "code",
   "execution_count": 24,
   "metadata": {},
   "outputs": [],
   "source": [
    "# Age Group\n",
    "# https://stackoverflow.com/a/34683105\n",
    "age_df = citibike[['birth year']].copy()\n",
    "\n",
    "# Replace the column names\n",
    "age_df.columns = age_df.columns.str.strip().str.lower().str.replace(' ', '_')\n",
    "\n",
    "# Failed attempt...\n",
    "# age_df['age'] = age_df.apply(lambda row: row['birth_year'])\n",
    "\n",
    "def get_age(year_of_birth):\n",
    "    result = 2019 - int(year_of_birth)\n",
    "    if result >= 0 and result <=80 and result != 50:\n",
    "        return result\n",
    "    else:\n",
    "        return -1\n",
    "\n",
    "# Calculate a new column by using vectorize method\n",
    "age_df['age'] = np.vectorize(get_age)(age_df['birth_year'])\n",
    "\n",
    "age_df = age_df[age_df['age'] != -1]\n",
    "\n",
    "age_plot_df = age_df.groupby('age')['age'].count()\n",
    "age_plot_df = age_plot_df.reset_index(name = 'count')\n",
    "age_plot_df = age_plot_df.set_index(['age'])"
   ]
  },
  {
   "cell_type": "code",
   "execution_count": 25,
   "metadata": {},
   "outputs": [
    {
     "data": {
      "text/plain": [
       "<matplotlib.axes._subplots.AxesSubplot at 0x3f48ee6d8>"
      ]
     },
     "execution_count": 25,
     "metadata": {},
     "output_type": "execute_result"
    },
    {
     "data": {
      "image/png": "[encoded data removed]",
      "text/plain": [
       "<Figure size 1440x720 with 1 Axes>"
      ]
     },
     "metadata": {
      "needs_background": "light"
     },
     "output_type": "display_data"
    }
   ],
   "source": [
    "age_plot_df.plot(\n",
    "    figsize = (20,10), \n",
    "    title = '2018 Citibike Rider Age', \n",
    "    fontsize = 14,\n",
    "    kind = 'bar',\n",
    "    rot = 0,\n",
    "    legend = None)"
   ]
  },
  {
   "cell_type": "code",
   "execution_count": 26,
   "metadata": {},
   "outputs": [
    {
     "data": {
      "text/plain": [
       "<matplotlib.axes._subplots.AxesSubplot at 0x291ad3a58>"
      ]
     },
     "execution_count": 26,
     "metadata": {},
     "output_type": "execute_result"
    },
    {
     "data": {
      "image/png": "[encoded data removed]",
      "text/plain": [
       "<Figure size 1440x720 with 1 Axes>"
      ]
     },
     "metadata": {
      "needs_background": "light"
     },
     "output_type": "display_data"
    }
   ],
   "source": [
    "# bins = [0, 24, 59, 999]\n",
    "# labels = ['Student <=24','Adult','Senior Adult']\n",
    "\n",
    "bins = [0, 20, 30, 40, 50, 60, 100]\n",
    "labels = ['10-20', '21-30', '31-40', '41-50', '51-60', '60 and Above']\n",
    "\n",
    "age_df['AgeGroup'] = pd.cut(age_df['age'], bins=bins, labels=labels, right=False)\n",
    "\n",
    "agegroup_plot_df = age_df.groupby('AgeGroup')['AgeGroup'].count()\n",
    "agegroup_plot_df = agegroup_plot_df.reset_index(name = 'count')\n",
    "agegroup_plot_df = agegroup_plot_df.set_index(['AgeGroup'])\n",
    "\n",
    "agegroup_plot_df.plot(\n",
    "    figsize = (20,10), \n",
    "    title = '2018 Citibike Rider Age Group', \n",
    "    fontsize = 14,\n",
    "    kind = 'bar',\n",
    "    rot = 0,\n",
    "    legend = None)"
   ]
  },
  {
   "cell_type": "code",
   "execution_count": 27,
   "metadata": {},
   "outputs": [
    {
     "data": {
      "text/html": [
       "<div>\n",
       "<style scoped>\n",
       "    .dataframe tbody tr th:only-of-type {\n",
       "        vertical-align: middle;\n",
       "    }\n",
       "\n",
       "    .dataframe tbody tr th {\n",
       "        vertical-align: top;\n",
       "    }\n",
       "\n",
       "    .dataframe thead th {\n",
       "        text-align: right;\n",
       "    }\n",
       "</style>\n",
       "<table border=\"1\" class=\"dataframe\">\n",
       "  <thead>\n",
       "    <tr style=\"text-align: right;\">\n",
       "      <th></th>\n",
       "      <th>count</th>\n",
       "    </tr>\n",
       "    <tr>\n",
       "      <th>gender</th>\n",
       "      <th></th>\n",
       "    </tr>\n",
       "  </thead>\n",
       "  <tbody>\n",
       "    <tr>\n",
       "      <th>0</th>\n",
       "      <td>1484282</td>\n",
       "    </tr>\n",
       "    <tr>\n",
       "      <th>1</th>\n",
       "      <td>11969615</td>\n",
       "    </tr>\n",
       "    <tr>\n",
       "      <th>2</th>\n",
       "      <td>4091945</td>\n",
       "    </tr>\n",
       "  </tbody>\n",
       "</table>\n",
       "</div>"
      ],
      "text/plain": [
       "           count\n",
       "gender          \n",
       "0        1484282\n",
       "1       11969615\n",
       "2        4091945"
      ]
     },
     "execution_count": 27,
     "metadata": {},
     "output_type": "execute_result"
    }
   ],
   "source": [
    "gender_df = citibike.groupby('gender')['gender'].count()\n",
    "gender_df = gender_df.reset_index(name = 'count')\n",
    "gender_df = gender_df.set_index(['gender'])\n",
    "\n",
    "# Set the index so it will print properly\n",
    "gender_df"
   ]
  },
  {
   "cell_type": "code",
   "execution_count": 28,
   "metadata": {},
   "outputs": [
    {
     "name": "stdout",
     "output_type": "stream",
     "text": [
      "Result: 0.21796866823983926\n"
     ]
    }
   ],
   "source": [
    "# https://stackoverflow.com/a/43211266\n",
    "from math import sin, cos, sqrt, atan2, radians\n",
    "\n",
    "\n",
    "def get_distance(lat1, lon1, lat2, lon2):\n",
    "    # approximate radius of earth in miles \n",
    "    R = 3958.8\n",
    "\n",
    "    lat1 = radians(lat1)\n",
    "    lon1 = radians(lon1)\n",
    "    lat2 = radians(lat2)\n",
    "    lon2 = radians(lon2)\n",
    "\n",
    "    dlon = lon2 - lon1\n",
    "    dlat = lat2 - lat1\n",
    "\n",
    "    a = sin(dlat / 2)**2 + cos(lat1) * cos(lat2) * sin(dlon / 2)**2\n",
    "    c = 2 * atan2(sqrt(a), sqrt(1 - a))\n",
    "\n",
    "    distance = R * c\n",
    "    return distance\n",
    "\n",
    "def get_duration(datetime1, datetime2):\n",
    "    # https://stackoverflow.com/a/14920923\n",
    "    duration = datetime2 - datetime1\n",
    "    return duration.total_seconds()\n",
    "    \n",
    "def get_speed(distance, duration):\n",
    "    hour = 60.0 * 60.0 * 60.0 / (seconds)\n",
    "    \n",
    "    # return distance per hour\n",
    "    return (distance/hour)\n",
    "\n",
    "ans = get_distance(40.729538, -73.984267, 40.736197, -74.008592)\n",
    "ans = get_distance(40.730260, -73.953940, 40.729060, -73.957790)\n",
    "\n",
    "print(\"Result:\", ans)"
   ]
  },
  {
   "cell_type": "code",
   "execution_count": 29,
   "metadata": {
    "scrolled": true
   },
   "outputs": [],
   "source": [
    "import numpy as np\n",
    "\n",
    "df = citibike.sample(frac = 0.1, replace = True, random_state = 1)\n",
    "\n",
    "# Vectorize: https://stackoverflow.com/q/19914937\n",
    "# start station latitude, start station longitude\n",
    "df['distance'] = np.vectorize(get_distance)(df['start station latitude'],\n",
    "                                     df['start station longitude'],\n",
    "                                     df['end station latitude'],\n",
    "                                     df['end station longitude'])\n",
    "\n",
    "\n",
    "\n",
    "# df['duration'] = np.vectorize(get_duration)(df['starttime'], df['stoptime'])\n",
    "# df['C'] = (df['B'] - df['A'])/ np.timedelta64(1, 's')\n",
    "df['duration'] = (df['stoptime'] - df['starttime']) / np.timedelta64(1, 's')\n",
    "\n",
    "df['speed'] = (df['distance'] / ((60.0 * 60.0) / df['duration']))\n",
    "\n",
    "# citibike_trip = citibike[citibike['start station name'] != citibike['end station name']]\n",
    "commute_trip = df[df['start station name'] != df['end station name']]\n",
    "\n",
    "# Limit the ride that is slower than walking and within reason (race bike...)\n",
    "commute_trip = commute_trip[(commute_trip['speed'] >= 3.5)\n",
    "                            & (commute_trip['speed'] <= 25)]\n",
    "\n",
    "# commute_trip = commute_trip[commute_trip['birth year'] >= 1989]\n",
    "\n",
    "'''\n",
    "Speeds above 16 mph are considered very vigorous while riding a bicycle. \n",
    "A light pace would be 10 to 11.9 mph while a moderate pace is categorized as 12 to 13.9 mph. \n",
    "If you are a beginner, start at a light or moderate pace and ride at speeds between 10 and 14 mph.\n",
    "'''\n",
    "\n",
    "speed_bins = [0, 9, 12, 15, 99]\n",
    "speed_labels = ['Leisurely (< 9 MPH)', 'Fast MPH (9 - 11.9 MPH)', 'Hurry (12 - 14.9 MPH)', 'Racing on Citibike? (15 MPH+)']\n",
    "\n",
    "commute_trip['SpeedGroup'] = pd.cut(commute_trip['speed'], bins=speed_bins, labels=speed_labels, right=False)"
   ]
  },
  {
   "cell_type": "code",
   "execution_count": 30,
   "metadata": {},
   "outputs": [
    {
     "data": {
      "text/plain": [
       "<matplotlib.axes._subplots.AxesSubplot at 0x188e39128>"
      ]
     },
     "execution_count": 30,
     "metadata": {},
     "output_type": "execute_result"
    },
    {
     "data": {
      "image/png": "[encoded data removed]",
      "text/plain": [
       "<Figure size 1440x720 with 1 Axes>"
      ]
     },
     "metadata": {
      "needs_background": "light"
     },
     "output_type": "display_data"
    }
   ],
   "source": [
    "commute_trip_plot = commute_trip.groupby('SpeedGroup')['SpeedGroup'].count()\n",
    "commute_trip_plot = commute_trip_plot.reset_index(name = 'count')\n",
    "commute_trip_plot = commute_trip_plot.set_index(['SpeedGroup'])\n",
    "\n",
    "commute_trip_plot.plot(\n",
    "    figsize = (20,10), \n",
    "    title = '2018 Citibike Commuter Speed', \n",
    "    kind = 'bar',\n",
    "    rot = 0,\n",
    "    legend = None)"
   ]
  },
  {
   "cell_type": "markdown",
   "metadata": {},
   "source": [
    "# Question 4: Advanced commuting analysis"
   ]
  },
  {
   "cell_type": "code",
   "execution_count": 31,
   "metadata": {},
   "outputs": [],
   "source": [
    "# Example of connected trip.\n",
    "# Same gender and year of birth started in the same station within 5 minutes.\n",
    "\n",
    "# Example of regular commuter rides\n",
    "# Start and end station by the same user?\n",
    "# Morning starting on the train station and ending on the same station\n",
    "\n",
    "# Year of Birth & Gender (Start time and station)\n",
    "# Working age adult: 7am-9am trips, where they do they go to work at?"
   ]
  }
 ],
 "metadata": {
  "kernelspec": {
   "display_name": "Python 3",
   "language": "python",
   "name": "python3"
  },
  "language_info": {
   "codemirror_mode": {
    "name": "ipython",
    "version": 3
   },
   "file_extension": ".py",
   "mimetype": "text/x-python",
   "name": "python",
   "nbconvert_exporter": "python",
   "pygments_lexer": "ipython3",
   "version": "3.7.3"
  }
 },
 "nbformat": 4,
 "nbformat_minor": 2
}
