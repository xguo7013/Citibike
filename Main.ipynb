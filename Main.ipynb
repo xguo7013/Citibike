{
 "cells": [
  {
   "cell_type": "code",
   "execution_count": 1,
   "metadata": {},
   "outputs": [],
   "source": [
    "# Citibike 2019 project, analyzing 2018 date of service trip data\n",
    "# Author: George Chan, Sean Guo"
   ]
  },
  {
   "cell_type": "code",
   "execution_count": 32,
   "metadata": {},
   "outputs": [],
   "source": [
    "# Import library and modules\n",
    "import pandas as pd\n",
    "import glob\n",
    "import numpy as np\n",
    "import os\n",
    "\n",
    "import matplotlib\n",
    "import matplotlib.pyplot as plt\n",
    "plt.style.use('fivethirtyeight')\n",
    "\n",
    "# Future use\n",
    "# https://markhneedham.com/blog/2018/09/18/matplotlib-remove-axis-legend/"
   ]
  },
  {
   "cell_type": "code",
   "execution_count": 3,
   "metadata": {},
   "outputs": [
    {
     "name": "stdout",
     "output_type": "stream",
     "text": [
      "The data are stored in: /Users/Study/Citibike_Data/\n"
     ]
    }
   ],
   "source": [
    "# Define where are the citibke 2018 zipfiles\n",
    "data_folder = r'/Users/Study/Citibike_Data/'\n",
    "print('The data are stored in: ' + data_folder)"
   ]
  },
  {
   "cell_type": "code",
   "execution_count": 4,
   "metadata": {},
   "outputs": [
    {
     "name": "stdout",
     "output_type": "stream",
     "text": [
      "Here are the list of csv zip files you have downloaded.\n",
      "\n",
      "/Users/Study/Citibike_Data/\n",
      "\t01: 201809-citibike-tripdata.csv\n",
      "\t02: 201801-citibike-tripdata.csv\n",
      "\t03: 201803-citibike-tripdata.csv\n",
      "\t04: 201805-citibike-tripdata.csv\n",
      "\t05: 201807-citibike-tripdata.csv\n",
      "\t06: 201811-citibike-tripdata.csv\n",
      "\t07: 201808-citibike-tripdata.csv\n",
      "\t08: 201802-citibike-tripdata.csv\n",
      "\t09: 201812-citibike-tripdata.csv\n",
      "\t10: 201804-citibike-tripdata.csv\n",
      "\t11: 201810-citibike-tripdata.csv\n",
      "\t12: 201806-citibike-tripdata.csv\n"
     ]
    }
   ],
   "source": [
    "# Check what are the files in that folder\n",
    "for folderName, subfolders, filenames in os.walk(data_folder):\n",
    "    print('Here are the list of csv zip files you have downloaded.\\n')\n",
    "    print(folderName)\n",
    "        \n",
    "    number_of_csv_file = 0\n",
    "    all_files = []\n",
    "    \n",
    "    # Reference 01: How to get index within for loop?\n",
    "    # Reference 02: How to pad number with leading zeros?\n",
    "    for filename in filenames:\n",
    "        if filename.endswith('.csv'):\n",
    "            number_of_csv_file += 1\n",
    "            print('\\t' + str(number_of_csv_file).zfill(2) + ': ' + filename)\n",
    "            all_files.append(data_folder + filename)\n",
    "            \n",
    "    # all_files = all_files.sort()\n",
    "            \n",
    "    # Warning message if you forgot to download all 12 months.\n",
    "    # For our project we want exactly 12 file\n",
    "    if number_of_csv_file != 12:\n",
    "        print('Sorry, I think you are missing some files?')\n",
    "        raise SystemExit"
   ]
  },
  {
   "cell_type": "code",
   "execution_count": 5,
   "metadata": {},
   "outputs": [
    {
     "name": "stdout",
     "output_type": "stream",
     "text": [
      "201801-citibike-tripdata.csv size: (7190, 15)\n",
      "201802-citibike-tripdata.csv size: (8431, 15)\n",
      "201803-citibike-tripdata.csv size: (9767, 15)\n",
      "201804-citibike-tripdata.csv size: (13075, 15)\n",
      "201805-citibike-tripdata.csv size: (18247, 15)\n",
      "201806-citibike-tripdata.csv size: (19531, 15)\n",
      "201807-citibike-tripdata.csv size: (19136, 15)\n",
      "201808-citibike-tripdata.csv size: (19772, 15)\n",
      "201809-citibike-tripdata.csv size: (18779, 15)\n",
      "201810-citibike-tripdata.csv size: (18787, 15)\n",
      "201811-citibike-tripdata.csv size: (12604, 15)\n",
      "201812-citibike-tripdata.csv size: (10165, 15)\n",
      "\n",
      "There are 175,484 number of records.\n",
      "Before dropping NaN: 175,484\n",
      "After dropping NaN:  175,452\n"
     ]
    }
   ],
   "source": [
    "# Creating a list of all CSV file in the path directory\n",
    "# all_files = glob.glob(data_folder + \"/*.csv\")\n",
    "\n",
    "# tempCitibike list that store the file data frame\n",
    "tempCitibike = []\n",
    "\n",
    "# Track how many records total\n",
    "totalRecordCount = 0\n",
    "\n",
    "# Loop and append the dataframes into tempCitibke List\n",
    "for filename in sorted(all_files):\n",
    "    # Filename is the path/file.ext\n",
    "    print(os.path.basename(filename), end=\" \")\n",
    "    \n",
    "    # df contains the entire dataset (CSV)\n",
    "    df = pd.read_csv(filename) \n",
    "    \n",
    "    # How to filter by values\n",
    "    # https://stackoverflow.com/q/17071871\n",
    "\n",
    "    # Experiment to see if only using annual membership will show a different\n",
    "    # df = df.loc[df['usertype'] == 'Subscriber']\n",
    "    \n",
    "    # Radnomly select 10% of the data, with random_state = 1\n",
    "    df = df.sample(frac = 0.01, replace = True, random_state = 1)\n",
    "    \n",
    "    # Output the (rowCount, columnCount) to terminal\n",
    "    print(\"size: \" + str(df.shape))\n",
    "    \n",
    "    totalRecordCount += df.shape[0]\n",
    "    tempCitibike.append(df)\n",
    "\n",
    "# Combine the tempCitibike dfs together\n",
    "citibike = pd.concat(tempCitibike)\n",
    "print(\"\\nThere are \" + \"{:,}\".format(totalRecordCount) + \" number of records.\")\n",
    "print(\"Before dropping NaN: \" + \"{:,}\".format(citibike.shape[0]))\n",
    "\n",
    "# Drop rows with any (missing) variables\n",
    "# Improve performance by not using inplace option\n",
    "# Reference: https://stackoverflow.com/q/22532302\n",
    "citibike = citibike.dropna()\n",
    "\n",
    "print(\"After dropping NaN:  \" + \"{:,}\".format(citibike.shape[0]))"
   ]
  },
  {
   "cell_type": "code",
   "execution_count": 6,
   "metadata": {},
   "outputs": [
    {
     "data": {
      "text/html": [
       "<div>\n",
       "<style scoped>\n",
       "    .dataframe tbody tr th:only-of-type {\n",
       "        vertical-align: middle;\n",
       "    }\n",
       "\n",
       "    .dataframe tbody tr th {\n",
       "        vertical-align: top;\n",
       "    }\n",
       "\n",
       "    .dataframe thead th {\n",
       "        text-align: right;\n",
       "    }\n",
       "</style>\n",
       "<table border=\"1\" class=\"dataframe\">\n",
       "  <thead>\n",
       "    <tr style=\"text-align: right;\">\n",
       "      <th></th>\n",
       "      <th>tripduration</th>\n",
       "      <th>starttime</th>\n",
       "      <th>stoptime</th>\n",
       "      <th>start station id</th>\n",
       "      <th>start station name</th>\n",
       "      <th>start station latitude</th>\n",
       "      <th>start station longitude</th>\n",
       "      <th>end station id</th>\n",
       "      <th>end station name</th>\n",
       "      <th>end station latitude</th>\n",
       "      <th>end station longitude</th>\n",
       "      <th>bikeid</th>\n",
       "      <th>usertype</th>\n",
       "      <th>birth year</th>\n",
       "      <th>gender</th>\n",
       "    </tr>\n",
       "  </thead>\n",
       "  <tbody>\n",
       "    <tr>\n",
       "      <th>128037</th>\n",
       "      <td>830</td>\n",
       "      <td>2018-01-28 11:56:43.3930</td>\n",
       "      <td>2018-01-28 12:10:33.6090</td>\n",
       "      <td>326.0</td>\n",
       "      <td>E 11 St &amp; 1 Ave</td>\n",
       "      <td>40.729538</td>\n",
       "      <td>-73.984267</td>\n",
       "      <td>238.0</td>\n",
       "      <td>Bank St &amp; Washington St</td>\n",
       "      <td>40.736197</td>\n",
       "      <td>-74.008592</td>\n",
       "      <td>21256</td>\n",
       "      <td>Subscriber</td>\n",
       "      <td>1958</td>\n",
       "      <td>2</td>\n",
       "    </tr>\n",
       "    <tr>\n",
       "      <th>491755</th>\n",
       "      <td>126</td>\n",
       "      <td>2018-01-18 09:31:57.5380</td>\n",
       "      <td>2018-01-18 09:34:04.3190</td>\n",
       "      <td>3113.0</td>\n",
       "      <td>Greenpoint Ave &amp; Manhattan Ave</td>\n",
       "      <td>40.730260</td>\n",
       "      <td>-73.953940</td>\n",
       "      <td>3112.0</td>\n",
       "      <td>Milton St &amp; Franklin St</td>\n",
       "      <td>40.729060</td>\n",
       "      <td>-73.957790</td>\n",
       "      <td>33220</td>\n",
       "      <td>Subscriber</td>\n",
       "      <td>1989</td>\n",
       "      <td>1</td>\n",
       "    </tr>\n",
       "    <tr>\n",
       "      <th>470924</th>\n",
       "      <td>653</td>\n",
       "      <td>2018-01-05 18:10:32.9340</td>\n",
       "      <td>2018-01-05 18:21:26.2660</td>\n",
       "      <td>3063.0</td>\n",
       "      <td>Nostrand Ave &amp; Myrtle Ave</td>\n",
       "      <td>40.695270</td>\n",
       "      <td>-73.952381</td>\n",
       "      <td>3075.0</td>\n",
       "      <td>Division Ave &amp; Marcy Ave</td>\n",
       "      <td>40.707087</td>\n",
       "      <td>-73.957968</td>\n",
       "      <td>18633</td>\n",
       "      <td>Subscriber</td>\n",
       "      <td>1979</td>\n",
       "      <td>1</td>\n",
       "    </tr>\n",
       "    <tr>\n",
       "      <th>491263</th>\n",
       "      <td>821</td>\n",
       "      <td>2018-01-28 16:33:27.7050</td>\n",
       "      <td>2018-01-28 16:47:08.8110</td>\n",
       "      <td>3112.0</td>\n",
       "      <td>Milton St &amp; Franklin St</td>\n",
       "      <td>40.729060</td>\n",
       "      <td>-73.957790</td>\n",
       "      <td>3078.0</td>\n",
       "      <td>Broadway &amp; Roebling St</td>\n",
       "      <td>40.709248</td>\n",
       "      <td>-73.960631</td>\n",
       "      <td>18473</td>\n",
       "      <td>Subscriber</td>\n",
       "      <td>1985</td>\n",
       "      <td>1</td>\n",
       "    </tr>\n",
       "    <tr>\n",
       "      <th>371403</th>\n",
       "      <td>559</td>\n",
       "      <td>2018-01-02 19:23:00.5350</td>\n",
       "      <td>2018-01-02 19:32:20.0530</td>\n",
       "      <td>503.0</td>\n",
       "      <td>E 20 St &amp; Park Ave</td>\n",
       "      <td>40.738274</td>\n",
       "      <td>-73.987520</td>\n",
       "      <td>254.0</td>\n",
       "      <td>W 11 St &amp; 6 Ave</td>\n",
       "      <td>40.735324</td>\n",
       "      <td>-73.998004</td>\n",
       "      <td>30669</td>\n",
       "      <td>Subscriber</td>\n",
       "      <td>1952</td>\n",
       "      <td>2</td>\n",
       "    </tr>\n",
       "  </tbody>\n",
       "</table>\n",
       "</div>"
      ],
      "text/plain": [
       "        tripduration                 starttime                  stoptime  \\\n",
       "128037           830  2018-01-28 11:56:43.3930  2018-01-28 12:10:33.6090   \n",
       "491755           126  2018-01-18 09:31:57.5380  2018-01-18 09:34:04.3190   \n",
       "470924           653  2018-01-05 18:10:32.9340  2018-01-05 18:21:26.2660   \n",
       "491263           821  2018-01-28 16:33:27.7050  2018-01-28 16:47:08.8110   \n",
       "371403           559  2018-01-02 19:23:00.5350  2018-01-02 19:32:20.0530   \n",
       "\n",
       "        start station id              start station name  \\\n",
       "128037             326.0                 E 11 St & 1 Ave   \n",
       "491755            3113.0  Greenpoint Ave & Manhattan Ave   \n",
       "470924            3063.0       Nostrand Ave & Myrtle Ave   \n",
       "491263            3112.0         Milton St & Franklin St   \n",
       "371403             503.0              E 20 St & Park Ave   \n",
       "\n",
       "        start station latitude  start station longitude  end station id  \\\n",
       "128037               40.729538               -73.984267           238.0   \n",
       "491755               40.730260               -73.953940          3112.0   \n",
       "470924               40.695270               -73.952381          3075.0   \n",
       "491263               40.729060               -73.957790          3078.0   \n",
       "371403               40.738274               -73.987520           254.0   \n",
       "\n",
       "                end station name  end station latitude  end station longitude  \\\n",
       "128037   Bank St & Washington St             40.736197             -74.008592   \n",
       "491755   Milton St & Franklin St             40.729060             -73.957790   \n",
       "470924  Division Ave & Marcy Ave             40.707087             -73.957968   \n",
       "491263    Broadway & Roebling St             40.709248             -73.960631   \n",
       "371403           W 11 St & 6 Ave             40.735324             -73.998004   \n",
       "\n",
       "        bikeid    usertype  birth year  gender  \n",
       "128037   21256  Subscriber        1958       2  \n",
       "491755   33220  Subscriber        1989       1  \n",
       "470924   18633  Subscriber        1979       1  \n",
       "491263   18473  Subscriber        1985       1  \n",
       "371403   30669  Subscriber        1952       2  "
      ]
     },
     "execution_count": 6,
     "metadata": {},
     "output_type": "execute_result"
    }
   ],
   "source": [
    "# Sample my dataset\n",
    "citibike.head()"
   ]
  },
  {
   "cell_type": "markdown",
   "metadata": {},
   "source": [
    "# Question 01: What is monthly total ridership in 2018?"
   ]
  },
  {
   "cell_type": "code",
   "execution_count": 17,
   "metadata": {},
   "outputs": [
    {
     "name": "stdout",
     "output_type": "stream",
     "text": [
      "Type: <class 'numpy.datetime64'>\n",
      "2018-01-28T11:56:43.393000000\n"
     ]
    }
   ],
   "source": [
    "# What is the type of the starttime?\n",
    "print('Type: ' + str(type(citibike['starttime'].values[0])))\n",
    "print(citibike['starttime'].values[0])"
   ]
  },
  {
   "cell_type": "code",
   "execution_count": 18,
   "metadata": {},
   "outputs": [],
   "source": [
    "# Need to convert start_time and stop_time to datetime\n",
    "from datetime import datetime\n",
    "\n",
    "formatString = '%Y-%m-%d %H:%M:%S.%f'\n",
    "\n",
    "# Reference 03: Convert datetime column into \n",
    "citibike['starttime'] = pd.to_datetime(citibike['starttime'], format=formatString)\n",
    "citibike['stoptime'] = pd.to_datetime(citibike['stoptime'], format=formatString)"
   ]
  },
  {
   "cell_type": "code",
   "execution_count": 19,
   "metadata": {},
   "outputs": [
    {
     "name": "stdout",
     "output_type": "stream",
     "text": [
      "Type: <class 'numpy.datetime64'>\n",
      "2018-01-28T11:56:43.393000000\n"
     ]
    }
   ],
   "source": [
    "# Confirm such convertion work, should be datetime64!\n",
    "print('Type: ' + str(type(citibike['starttime'].values[0])))\n",
    "print(citibike['starttime'].values[0])"
   ]
  },
  {
   "cell_type": "code",
   "execution_count": 20,
   "metadata": {},
   "outputs": [
    {
     "data": {
      "text/html": [
       "<div>\n",
       "<style scoped>\n",
       "    .dataframe tbody tr th:only-of-type {\n",
       "        vertical-align: middle;\n",
       "    }\n",
       "\n",
       "    .dataframe tbody tr th {\n",
       "        vertical-align: top;\n",
       "    }\n",
       "\n",
       "    .dataframe thead th {\n",
       "        text-align: right;\n",
       "    }\n",
       "</style>\n",
       "<table border=\"1\" class=\"dataframe\">\n",
       "  <thead>\n",
       "    <tr style=\"text-align: right;\">\n",
       "      <th></th>\n",
       "      <th>starttime</th>\n",
       "    </tr>\n",
       "  </thead>\n",
       "  <tbody>\n",
       "    <tr>\n",
       "      <th>128037</th>\n",
       "      <td>2018-01</td>\n",
       "    </tr>\n",
       "    <tr>\n",
       "      <th>491755</th>\n",
       "      <td>2018-01</td>\n",
       "    </tr>\n",
       "    <tr>\n",
       "      <th>470924</th>\n",
       "      <td>2018-01</td>\n",
       "    </tr>\n",
       "    <tr>\n",
       "      <th>491263</th>\n",
       "      <td>2018-01</td>\n",
       "    </tr>\n",
       "    <tr>\n",
       "      <th>371403</th>\n",
       "      <td>2018-01</td>\n",
       "    </tr>\n",
       "  </tbody>\n",
       "</table>\n",
       "</div>"
      ],
      "text/plain": [
       "       starttime\n",
       "128037   2018-01\n",
       "491755   2018-01\n",
       "470924   2018-01\n",
       "491263   2018-01\n",
       "371403   2018-01"
      ]
     },
     "execution_count": 20,
     "metadata": {},
     "output_type": "execute_result"
    }
   ],
   "source": [
    "# Reference 03: Group by month on datetime columns\n",
    "# Create another pandas dataframe that only has 1 columns\n",
    "citibike_monthly_df = citibike.filter(['starttime']) # Monthly dataframe\n",
    "citibike_daily_df = citibike.filter(['starttime'])   # Daily dataframe\n",
    "\n",
    "# Each of the starttime is now converted into YYYY-MM\n",
    "citibike_monthly_df.starttime = pd.to_datetime(citibike_monthly_df.starttime).dt.to_period('m')\n",
    "citibike_daily_df.starttime = pd.to_datetime(citibike_daily_df.starttime).dt.to_period('d')\n",
    "\n",
    "# Confirm if they are correct\n",
    "citibike_daily_df.head()\n",
    "citibike_monthly_df.head()"
   ]
  },
  {
   "cell_type": "code",
   "execution_count": 21,
   "metadata": {},
   "outputs": [],
   "source": [
    "# Get frequency count of ridership data by month and day\n",
    "monthly_answer = citibike_monthly_df.groupby(['starttime']).size()\n",
    "daily_answer = citibike_daily_df.groupby(['starttime']).size()"
   ]
  },
  {
   "cell_type": "code",
   "execution_count": 22,
   "metadata": {},
   "outputs": [
    {
     "data": {
      "text/plain": [
       "pandas.core.series.Series"
      ]
     },
     "execution_count": 22,
     "metadata": {},
     "output_type": "execute_result"
    }
   ],
   "source": [
    "type(monthly_answer)"
   ]
  },
  {
   "cell_type": "code",
   "execution_count": 33,
   "metadata": {},
   "outputs": [
    {
     "data": {
      "image/png": "[encoded data removed]",
      "text/plain": [
       "<Figure size 1440x720 with 1 Axes>"
      ]
     },
     "metadata": {},
     "output_type": "display_data"
    }
   ],
   "source": [
    "ax = monthly_answer.plot(\n",
    "    figsize = (20,10), \n",
    "    kind = 'bar',\n",
    "    title = '2018 Monthly Citibike Ridership Count',\n",
    "    fontsize = 12,\n",
    "    rot=0)\n",
    "\n",
    "# Finally learned how to do it, you have to assign it to an object first.\n",
    "# Reference: https://stackoverflow.com/a/21487560\n",
    "\n",
    "# Then use set_xlable ...\n",
    "ax.set_xlabel('')\n",
    "\n",
    "# Very complicated, \n",
    "# Reference: https://stackoverflow.com/a/25973637\n",
    "ax.get_yaxis().set_major_formatter(\n",
    "    matplotlib.ticker.FuncFormatter(lambda y, p: format(int(y), ',')))"
   ]
  },
  {
   "cell_type": "code",
   "execution_count": 24,
   "metadata": {},
   "outputs": [
    {
     "data": {
      "text/plain": [
       "<matplotlib.axes._subplots.AxesSubplot at 0x1393b6240>"
      ]
     },
     "execution_count": 24,
     "metadata": {},
     "output_type": "execute_result"
    },
    {
     "data": {
      "image/png": "[encoded data removed]",
      "text/plain": [
       "<Figure size 1440x720 with 1 Axes>"
      ]
     },
     "metadata": {
      "needs_background": "light"
     },
     "output_type": "display_data"
    }
   ],
   "source": [
    "temperature_dict = {\n",
    "    'Month':['2018-01', \n",
    "             '2018-02',\n",
    "             '2018-03',\n",
    "             '2018-04',\n",
    "             '2018-05',\n",
    "             '2018-06',\n",
    "             '2018-07',\n",
    "             '2018-08',\n",
    "             '2018-09',\n",
    "             '2018-10',\n",
    "             '2018-11',\n",
    "             '2018-12'],\n",
    "    'Temperature':[32.5, 35.5, 42.5, 53, 62.5, 71.5, 76.5, 75.5, 68, 57, 48, 37.5]\n",
    "}\n",
    "\n",
    "temperature_df = pd.DataFrame.from_dict(temperature_dict)\n",
    "\n",
    "temperature_df.plot(\n",
    "    figsize = (20,10), \n",
    "    kind = 'line',\n",
    "    title = '2018 Average Temperature',\n",
    "    fontsize = 12,\n",
    "    linewidth = 4.0, \n",
    "    markeredgewidth = 10.0,\n",
    "    linestyle = '--', \n",
    "    marker = 'o',\n",
    "    rot = 0)"
   ]
  },
  {
   "cell_type": "code",
   "execution_count": 25,
   "metadata": {},
   "outputs": [
    {
     "data": {
      "text/plain": [
       "<matplotlib.axes._subplots.AxesSubplot at 0x1391530f0>"
      ]
     },
     "execution_count": 25,
     "metadata": {},
     "output_type": "execute_result"
    },
    {
     "data": {
      "image/png": "[encoded data removed]",
      "text/plain": [
       "<Figure size 1440x720 with 1 Axes>"
      ]
     },
     "metadata": {
      "needs_background": "light"
     },
     "output_type": "display_data"
    }
   ],
   "source": [
    "daily_answer.plot(\n",
    "    figsize = (20,10), \n",
    "    kind = 'bar',\n",
    "    title = '2018 Monthly Citibike Ridership Count',\n",
    "    fontsize = 12,\n",
    "    legend=False)"
   ]
  },
  {
   "cell_type": "markdown",
   "metadata": {},
   "source": [
    "# Question 02: Pending"
   ]
  },
  {
   "cell_type": "code",
   "execution_count": 26,
   "metadata": {},
   "outputs": [],
   "source": [
    "# Enter Python & Pandas Code here :)"
   ]
  },
  {
   "cell_type": "markdown",
   "metadata": {},
   "source": [
    "# Question 03: What is the most popular station?"
   ]
  },
  {
   "cell_type": "code",
   "execution_count": 27,
   "metadata": {},
   "outputs": [
    {
     "name": "stdout",
     "output_type": "stream",
     "text": [
      "The most popular start station: Pershing Square North (1,511 times)\n",
      "The most popular end station:   Pershing Square North (1,485 times)\n",
      "\n",
      "From Wiki: Pershing Square is a public square in Manhattan, New York City. \n",
      "Located where Park Avenue and 42nd Street intersect in front of Grand Central Terminal.\n",
      "The main roadway of Park Avenue crosses over 42nd Street on the Park Avenue Viaduct. \n",
      "It is also known as the Pershing Square Viaduct.\n"
     ]
    }
   ],
   "source": [
    "# Most busy start station\n",
    "# https://stackoverflow.com/q/29836477\n",
    "# http://pandas.pydata.org/pandas-docs/stable/reference/api/pandas.DataFrame.sort_values.html\n",
    "key = 'start station name'\n",
    "start_station_df = citibike.groupby(key)[key].count().reset_index(name = 'count')\n",
    "start_station_df.sort_values(by = 'count', ascending = False, inplace = True)\n",
    "\n",
    "# The most popular start stations award goes to...\n",
    "print('The most popular start station: ' + str(start_station_df.iloc[0][0]), end = '')\n",
    "print(' ({:,} times)'.format(start_station_df.iloc[0][1]))\n",
    "\n",
    "# Most busy end station\n",
    "key = 'end station name'\n",
    "end_station_df = citibike.groupby(key)[key].count().reset_index(name = 'count')\n",
    "end_station_df.sort_values(by = 'count', ascending = False, inplace = True)\n",
    "\n",
    "print('The most popular end station:   ' + str(end_station_df.iloc[0][0]), end = '')\n",
    "print(' ({:,} times)'.format(end_station_df.iloc[0][1]))\n",
    "\n",
    "# Some information about this station\n",
    "print('\\nFrom Wiki: Pershing Square is a public square in Manhattan, New York City. ')\n",
    "print('Located where Park Avenue and 42nd Street intersect in front of Grand Central Terminal.')\n",
    "print('The main roadway of Park Avenue crosses over 42nd Street on the Park Avenue Viaduct. ')\n",
    "print('It is also known as the Pershing Square Viaduct.')\n",
    "\n",
    "# Top 10 one way direction...\n",
    "# Chart Annual rider vs. Weekly rider vs. Single rider\n",
    "\n",
    "# School station analysis (Where do they go?)\n",
    "# Male and Female trips\n",
    "# Age Group\n",
    "\n",
    "# Longest trip (Distance formula)\n",
    "# Shortest trip (Distance formula)\n",
    "# Holiday trip (Federal Holiday)\n",
    "\n",
    "# Number of conected trip ...\n",
    "# Start and end station by the same user?\n",
    "\n",
    "# Analysis on commute habbit\n",
    "# Year of Birth & Gender (Start time and station)\n",
    "# Morning starting on the train station and ending on the same station"
   ]
  },
  {
   "cell_type": "code",
   "execution_count": 28,
   "metadata": {},
   "outputs": [
    {
     "name": "stdout",
     "output_type": "stream",
     "text": [
      "The most popular ride is : E 7 St & Avenue A to Cooper Square & Astor Pl (78 times)\n",
      "The least popular ride is: old - E 13 St & Avenue A to Washington St & Gansevoort St (1 times)\n"
     ]
    }
   ],
   "source": [
    "# https://stackoverflow.com/q/54009788\n",
    "# This analysis exclude the trip where they start and end at the same station\n",
    "# Because it is actually central park, I am guessing for tourist?\n",
    "\n",
    "# Do not want the trip start and end at the same place\n",
    "citibike_trip = citibike[citibike['start station name'] != citibike['end station name']]\n",
    "\n",
    "# Create a subset dataframe with only start & end station name\n",
    "citibike_trip = citibike_trip.filter(['start station name', 'end station name'])\n",
    "\n",
    "# Create the trip string\n",
    "citibike_trip['trip'] = citibike_trip['start station name'] + ' to ' + citibike_trip['end station name']\n",
    "\n",
    "# Group by trip and add count column\n",
    "trip_df = citibike_trip.groupby('trip')['trip'].count().reset_index(name = 'count')\n",
    "trip_df.sort_values(by = 'count', ascending = False, inplace = True)\n",
    "\n",
    "# Print out the result\n",
    "print('The most popular ride is : ' + trip_df.iloc[0][0], end = '')\n",
    "print(' ({} times)'.format(trip_df.iloc[0][1]))\n",
    "print('The least popular ride is: ' + trip_df.iloc[-1][0], end = '')\n",
    "print(' ({} times)'.format(trip_df.iloc[-1][1]))"
   ]
  },
  {
   "cell_type": "markdown",
   "metadata": {},
   "source": [
    "# Top 10 poupar trips in 2018"
   ]
  },
  {
   "cell_type": "code",
   "execution_count": 29,
   "metadata": {},
   "outputs": [
    {
     "data": {
      "text/html": [
       "<div>\n",
       "<style scoped>\n",
       "    .dataframe tbody tr th:only-of-type {\n",
       "        vertical-align: middle;\n",
       "    }\n",
       "\n",
       "    .dataframe tbody tr th {\n",
       "        vertical-align: top;\n",
       "    }\n",
       "\n",
       "    .dataframe thead th {\n",
       "        text-align: right;\n",
       "    }\n",
       "</style>\n",
       "<table border=\"1\" class=\"dataframe\">\n",
       "  <thead>\n",
       "    <tr style=\"text-align: right;\">\n",
       "      <th></th>\n",
       "      <th>trip</th>\n",
       "      <th>count</th>\n",
       "    </tr>\n",
       "  </thead>\n",
       "  <tbody>\n",
       "    <tr>\n",
       "      <th>34280</th>\n",
       "      <td>E 7 St &amp; Avenue A to Cooper Square &amp; Astor Pl</td>\n",
       "      <td>78</td>\n",
       "    </tr>\n",
       "    <tr>\n",
       "      <th>17873</th>\n",
       "      <td>Central Park S &amp; 6 Ave to 5 Ave &amp; E 88 St</td>\n",
       "      <td>64</td>\n",
       "    </tr>\n",
       "    <tr>\n",
       "      <th>55097</th>\n",
       "      <td>S 4 St &amp; Wythe Ave to N 6 St &amp; Bedford Ave</td>\n",
       "      <td>60</td>\n",
       "    </tr>\n",
       "    <tr>\n",
       "      <th>52083</th>\n",
       "      <td>Pershing Square North to Broadway &amp; W 32 St</td>\n",
       "      <td>57</td>\n",
       "    </tr>\n",
       "    <tr>\n",
       "      <th>52300</th>\n",
       "      <td>Pershing Square North to W 33 St &amp; 7 Ave</td>\n",
       "      <td>50</td>\n",
       "    </tr>\n",
       "    <tr>\n",
       "      <th>53847</th>\n",
       "      <td>Richardson St &amp; N Henry St to Graham Ave &amp; Con...</td>\n",
       "      <td>47</td>\n",
       "    </tr>\n",
       "    <tr>\n",
       "      <th>52140</th>\n",
       "      <td>Pershing Square North to E 24 St &amp; Park Ave S</td>\n",
       "      <td>47</td>\n",
       "    </tr>\n",
       "    <tr>\n",
       "      <th>52698</th>\n",
       "      <td>Pier 40 - Hudson River Park to West St &amp; Chamb...</td>\n",
       "      <td>46</td>\n",
       "    </tr>\n",
       "    <tr>\n",
       "      <th>62923</th>\n",
       "      <td>W 21 St &amp; 6 Ave to 9 Ave &amp; W 22 St</td>\n",
       "      <td>45</td>\n",
       "    </tr>\n",
       "    <tr>\n",
       "      <th>2234</th>\n",
       "      <td>12 Ave &amp; W 40 St to West St &amp; Chambers St</td>\n",
       "      <td>45</td>\n",
       "    </tr>\n",
       "  </tbody>\n",
       "</table>\n",
       "</div>"
      ],
      "text/plain": [
       "                                                    trip  count\n",
       "34280      E 7 St & Avenue A to Cooper Square & Astor Pl     78\n",
       "17873          Central Park S & 6 Ave to 5 Ave & E 88 St     64\n",
       "55097         S 4 St & Wythe Ave to N 6 St & Bedford Ave     60\n",
       "52083        Pershing Square North to Broadway & W 32 St     57\n",
       "52300           Pershing Square North to W 33 St & 7 Ave     50\n",
       "53847  Richardson St & N Henry St to Graham Ave & Con...     47\n",
       "52140      Pershing Square North to E 24 St & Park Ave S     47\n",
       "52698  Pier 40 - Hudson River Park to West St & Chamb...     46\n",
       "62923                 W 21 St & 6 Ave to 9 Ave & W 22 St     45\n",
       "2234           12 Ave & W 40 St to West St & Chambers St     45"
      ]
     },
     "execution_count": 29,
     "metadata": {},
     "output_type": "execute_result"
    }
   ],
   "source": [
    "# Take a look at the top 10 popular trips\n",
    "trip_df.head(10)"
   ]
  },
  {
   "cell_type": "markdown",
   "metadata": {},
   "source": [
    "# What are the type of membership (Annual members or paid per ride?)"
   ]
  },
  {
   "cell_type": "code",
   "execution_count": 30,
   "metadata": {},
   "outputs": [
    {
     "data": {
      "text/html": [
       "<div>\n",
       "<style scoped>\n",
       "    .dataframe tbody tr th:only-of-type {\n",
       "        vertical-align: middle;\n",
       "    }\n",
       "\n",
       "    .dataframe tbody tr th {\n",
       "        vertical-align: top;\n",
       "    }\n",
       "\n",
       "    .dataframe thead th {\n",
       "        text-align: right;\n",
       "    }\n",
       "</style>\n",
       "<table border=\"1\" class=\"dataframe\">\n",
       "  <thead>\n",
       "    <tr style=\"text-align: right;\">\n",
       "      <th></th>\n",
       "      <th>count</th>\n",
       "    </tr>\n",
       "    <tr>\n",
       "      <th>usertype</th>\n",
       "      <th></th>\n",
       "    </tr>\n",
       "  </thead>\n",
       "  <tbody>\n",
       "    <tr>\n",
       "      <th>Customer</th>\n",
       "      <td>19293</td>\n",
       "    </tr>\n",
       "    <tr>\n",
       "      <th>Subscriber</th>\n",
       "      <td>156159</td>\n",
       "    </tr>\n",
       "  </tbody>\n",
       "</table>\n",
       "</div>"
      ],
      "text/plain": [
       "             count\n",
       "usertype          \n",
       "Customer     19293\n",
       "Subscriber  156159"
      ]
     },
     "execution_count": 30,
     "metadata": {},
     "output_type": "execute_result"
    }
   ],
   "source": [
    "membership_df = citibike.groupby('usertype')['usertype'].count()\n",
    "membership_df = membership_df.reset_index(name = 'count')\n",
    "membership_df = membership_df.set_index(['usertype'])\n",
    "\n",
    "# Set the index so it will print properly\n",
    "membership_df"
   ]
  },
  {
   "cell_type": "code",
   "execution_count": 31,
   "metadata": {},
   "outputs": [
    {
     "data": {
      "text/plain": [
       "<matplotlib.axes._subplots.AxesSubplot at 0x13937a8d0>"
      ]
     },
     "execution_count": 31,
     "metadata": {},
     "output_type": "execute_result"
    },
    {
     "data": {
      "image/png": "[encoded data removed]",
      "text/plain": [
       "<Figure size 432x288 with 1 Axes>"
      ]
     },
     "metadata": {
      "needs_background": "light"
     },
     "output_type": "display_data"
    }
   ],
   "source": [
    "# Reference: https://markhneedham.com/blog/2018/09/18/matplotlib-remove-axis-legend/\n",
    "membership_df.plot(\n",
    "    title = '2018 Citibike Rider Membership Data', \n",
    "    kind = 'bar',\n",
    "    rot = 0,\n",
    "    legend = None)"
   ]
  }
 ],
 "metadata": {
  "kernelspec": {
   "display_name": "Python 3",
   "language": "python",
   "name": "python3"
  },
  "language_info": {
   "codemirror_mode": {
    "name": "ipython",
    "version": 3
   },
   "file_extension": ".py",
   "mimetype": "text/x-python",
   "name": "python",
   "nbconvert_exporter": "python",
   "pygments_lexer": "ipython3",
   "version": "3.7.3"
  }
 },
 "nbformat": 4,
 "nbformat_minor": 2
}
