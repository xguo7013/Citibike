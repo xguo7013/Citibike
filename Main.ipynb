{
 "cells": [
  {
   "cell_type": "code",
   "execution_count": 2,
   "metadata": {},
   "outputs": [],
   "source": [
    "# Citibike 2019 project, analyzing 2018 date of service trip data\n",
    "# Author: George Chan, Sean Guo\n",
    "\n",
    "# References Link from Google\n",
    "# 01. https://stackoverflow.com/questions/522563/accessing-the-index-in-for-loops\n",
    "# 02. https://stackoverflow.com/questions/39402795/how-to-pad-a-string-with-leading-zeros-in-python-3/39402910\n",
    "# 03. https://stackoverflow.com/questions/17134716/convert-dataframe-column-type-from-string-to-datetime\n",
    "# 04. https://stackoverflow.com/questions/24082784/pandas-dataframe-groupby-datetime-month\n",
    "# 05. https://stackoverflow.com/questions/23402150/grouping-and-computing-frequency-pandas"
   ]
  },
  {
   "cell_type": "code",
   "execution_count": 3,
   "metadata": {},
   "outputs": [],
   "source": [
    "# Import library and modules\n",
    "import pandas as pd\n",
    "import glob\n",
    "import numpy as np\n",
    "import os"
   ]
  },
  {
   "cell_type": "code",
   "execution_count": 4,
   "metadata": {},
   "outputs": [
    {
     "name": "stdout",
     "output_type": "stream",
     "text": [
      "The data are stored in: /Users/Study/Citibike_Data/\n"
     ]
    }
   ],
   "source": [
    "# Define where are the citibke 2018 zipfiles\n",
    "data_folder = r'/Users/Study/Citibike_Data/'\n",
    "print('The data are stored in: ' + data_folder)"
   ]
  },
  {
   "cell_type": "code",
   "execution_count": 32,
   "metadata": {},
   "outputs": [
    {
     "name": "stdout",
     "output_type": "stream",
     "text": [
      "Here are the list of csv zip files you have downloaded.\n",
      "\n",
      "/Users/Study/Citibike_Data/\n",
      "\t01: 201809-citibike-tripdata.csv\n",
      "\t02: 201801-citibike-tripdata.csv\n",
      "\t03: 201803-citibike-tripdata.csv\n",
      "\t04: 201805-citibike-tripdata.csv\n",
      "\t05: 201807-citibike-tripdata.csv\n",
      "\t06: 201811-citibike-tripdata.csv\n",
      "\t07: 201808-citibike-tripdata.csv\n",
      "\t08: 201802-citibike-tripdata.csv\n",
      "\t09: 201812-citibike-tripdata.csv\n",
      "\t10: 201804-citibike-tripdata.csv\n",
      "\t11: 201810-citibike-tripdata.csv\n",
      "\t12: 201806-citibike-tripdata.csv\n"
     ]
    }
   ],
   "source": [
    "# Check what are the files in that folder\n",
    "for folderName, subfolders, filenames in os.walk(data_folder):\n",
    "    print('Here are the list of csv zip files you have downloaded.\\n')\n",
    "    print(folderName)\n",
    "        \n",
    "    number_of_csv_file = 0\n",
    "    all_files = []\n",
    "    \n",
    "    # Reference 01: How to get index within for loop?\n",
    "    # Reference 02: How to pad number with leading zeros?\n",
    "    for filename in filenames:\n",
    "        if filename.endswith('.csv'):\n",
    "            number_of_csv_file += 1\n",
    "            print('\\t' + str(number_of_csv_file).zfill(2) + ': ' + filename)\n",
    "            all_files.append(data_folder + filename)\n",
    "            \n",
    "    # all_files = all_files.sort()\n",
    "            \n",
    "    # Warning message if you forgot to download all 12 months.\n",
    "    # For our project we want exactly 12 file\n",
    "    if number_of_csv_file != 12:\n",
    "        print('Sorry, I think you are missing some files?')\n",
    "        raise SystemExit"
   ]
  },
  {
   "cell_type": "code",
   "execution_count": 33,
   "metadata": {},
   "outputs": [
    {
     "name": "stdout",
     "output_type": "stream",
     "text": [
      "201801-citibike-tripdata.csv size: (71899, 15)\n",
      "201802-citibike-tripdata.csv size: (84311, 15)\n",
      "201803-citibike-tripdata.csv size: (97667, 15)\n",
      "201804-citibike-tripdata.csv size: (130754, 15)\n",
      "201805-citibike-tripdata.csv size: (182471, 15)\n",
      "201806-citibike-tripdata.csv size: (195310, 15)\n",
      "201807-citibike-tripdata.csv size: (191362, 15)\n",
      "201808-citibike-tripdata.csv size: (197718, 15)\n",
      "201809-citibike-tripdata.csv size: (187788, 15)\n",
      "201810-citibike-tripdata.csv size: (187866, 15)\n",
      "201811-citibike-tripdata.csv size: (126036, 15)\n",
      "201812-citibike-tripdata.csv size: (101650, 15)\n",
      "\n",
      "There are 1,754,832 number of records.\n",
      "Before dropping NaN: 1,754,832\n",
      "After dropping NaN: 1,754,557\n"
     ]
    }
   ],
   "source": [
    "# Creating a list of all CSV file in the path directory\n",
    "# all_files = glob.glob(data_folder + \"/*.csv\")\n",
    "\n",
    "# tempCitibike list that store the file data frame\n",
    "tempCitibike = []\n",
    "\n",
    "# Track how many records total\n",
    "totalRecordCount = 0\n",
    "\n",
    "# Loop and append the dataframes into tempCitibke List\n",
    "for filename in sorted(all_files):\n",
    "    # Filename is the path/file.ext\n",
    "    print(os.path.basename(filename), end=\" \")\n",
    "    \n",
    "    # df contains the entire dataset (CSV)\n",
    "    df = pd.read_csv(filename) \n",
    "    \n",
    "    # Radnomly select 10% of the data, with random_state = 1\n",
    "    df = df.sample(frac = 0.10, replace = True, random_state = 1)\n",
    "    \n",
    "    # Output the (rowCount, columnCount) to terminal\n",
    "    print(\"size: \" + str(df.shape))\n",
    "    \n",
    "    totalRecordCount += df.shape[0]\n",
    "    tempCitibike.append(df)\n",
    "\n",
    "# Combine the tempCitibike dfs together\n",
    "citibike = pd.concat(tempCitibike)\n",
    "print(\"\\nThere are \" + \"{:,}\".format(totalRecordCount) + \" number of records.\")\n",
    "print(\"Before dropping NaN: \" + \"{:,}\".format(citibike.shape[0]))\n",
    "\n",
    "# Drop rows with any (missing) variables\n",
    "citibike.dropna(inplace = True)\n",
    "print(\"After dropping NaN: \" + \"{:,}\".format(citibike.shape[0]))"
   ]
  },
  {
   "cell_type": "code",
   "execution_count": 7,
   "metadata": {},
   "outputs": [
    {
     "data": {
      "text/html": [
       "<div>\n",
       "<style scoped>\n",
       "    .dataframe tbody tr th:only-of-type {\n",
       "        vertical-align: middle;\n",
       "    }\n",
       "\n",
       "    .dataframe tbody tr th {\n",
       "        vertical-align: top;\n",
       "    }\n",
       "\n",
       "    .dataframe thead th {\n",
       "        text-align: right;\n",
       "    }\n",
       "</style>\n",
       "<table border=\"1\" class=\"dataframe\">\n",
       "  <thead>\n",
       "    <tr style=\"text-align: right;\">\n",
       "      <th></th>\n",
       "      <th>tripduration</th>\n",
       "      <th>starttime</th>\n",
       "      <th>stoptime</th>\n",
       "      <th>start station id</th>\n",
       "      <th>start station name</th>\n",
       "      <th>start station latitude</th>\n",
       "      <th>start station longitude</th>\n",
       "      <th>end station id</th>\n",
       "      <th>end station name</th>\n",
       "      <th>end station latitude</th>\n",
       "      <th>end station longitude</th>\n",
       "      <th>bikeid</th>\n",
       "      <th>usertype</th>\n",
       "      <th>birth year</th>\n",
       "      <th>gender</th>\n",
       "    </tr>\n",
       "  </thead>\n",
       "  <tbody>\n",
       "    <tr>\n",
       "      <th>128037</th>\n",
       "      <td>222</td>\n",
       "      <td>2018-09-03 11:44:21.4210</td>\n",
       "      <td>2018-09-03 11:48:04.4040</td>\n",
       "      <td>3260.0</td>\n",
       "      <td>Mercer St &amp; Bleecker St</td>\n",
       "      <td>40.727064</td>\n",
       "      <td>-73.996621</td>\n",
       "      <td>3705.0</td>\n",
       "      <td>Thompson St &amp; Bleecker St</td>\n",
       "      <td>40.728401</td>\n",
       "      <td>-73.999688</td>\n",
       "      <td>26630</td>\n",
       "      <td>Subscriber</td>\n",
       "      <td>1996</td>\n",
       "      <td>1</td>\n",
       "    </tr>\n",
       "    <tr>\n",
       "      <th>491755</th>\n",
       "      <td>599</td>\n",
       "      <td>2018-09-08 14:52:51.5460</td>\n",
       "      <td>2018-09-08 15:02:50.5470</td>\n",
       "      <td>297.0</td>\n",
       "      <td>E 15 St &amp; 3 Ave</td>\n",
       "      <td>40.734232</td>\n",
       "      <td>-73.986923</td>\n",
       "      <td>368.0</td>\n",
       "      <td>Carmine St &amp; 6 Ave</td>\n",
       "      <td>40.730386</td>\n",
       "      <td>-74.002150</td>\n",
       "      <td>34850</td>\n",
       "      <td>Subscriber</td>\n",
       "      <td>1968</td>\n",
       "      <td>1</td>\n",
       "    </tr>\n",
       "    <tr>\n",
       "      <th>470924</th>\n",
       "      <td>806</td>\n",
       "      <td>2018-09-08 10:56:45.0220</td>\n",
       "      <td>2018-09-08 11:10:11.2850</td>\n",
       "      <td>408.0</td>\n",
       "      <td>Market St &amp; Cherry St</td>\n",
       "      <td>40.710762</td>\n",
       "      <td>-73.994004</td>\n",
       "      <td>408.0</td>\n",
       "      <td>Market St &amp; Cherry St</td>\n",
       "      <td>40.710762</td>\n",
       "      <td>-73.994004</td>\n",
       "      <td>19890</td>\n",
       "      <td>Subscriber</td>\n",
       "      <td>1978</td>\n",
       "      <td>1</td>\n",
       "    </tr>\n",
       "    <tr>\n",
       "      <th>1840200</th>\n",
       "      <td>1457</td>\n",
       "      <td>2018-09-30 14:09:02.9470</td>\n",
       "      <td>2018-09-30 14:33:20.6020</td>\n",
       "      <td>312.0</td>\n",
       "      <td>Allen St &amp; Stanton St</td>\n",
       "      <td>40.722055</td>\n",
       "      <td>-73.989111</td>\n",
       "      <td>2002.0</td>\n",
       "      <td>Wythe Ave &amp; Metropolitan Ave</td>\n",
       "      <td>40.716887</td>\n",
       "      <td>-73.963198</td>\n",
       "      <td>31979</td>\n",
       "      <td>Customer</td>\n",
       "      <td>1980</td>\n",
       "      <td>2</td>\n",
       "    </tr>\n",
       "    <tr>\n",
       "      <th>491263</th>\n",
       "      <td>1268</td>\n",
       "      <td>2018-09-08 14:47:38.4920</td>\n",
       "      <td>2018-09-08 15:08:46.9920</td>\n",
       "      <td>3528.0</td>\n",
       "      <td>Steinway St &amp; 23 Ave</td>\n",
       "      <td>40.771394</td>\n",
       "      <td>-73.907744</td>\n",
       "      <td>3662.0</td>\n",
       "      <td>31 Ave &amp; Steinway St</td>\n",
       "      <td>40.761294</td>\n",
       "      <td>-73.916917</td>\n",
       "      <td>34351</td>\n",
       "      <td>Customer</td>\n",
       "      <td>1992</td>\n",
       "      <td>2</td>\n",
       "    </tr>\n",
       "  </tbody>\n",
       "</table>\n",
       "</div>"
      ],
      "text/plain": [
       "         tripduration                 starttime                  stoptime  \\\n",
       "128037            222  2018-09-03 11:44:21.4210  2018-09-03 11:48:04.4040   \n",
       "491755            599  2018-09-08 14:52:51.5460  2018-09-08 15:02:50.5470   \n",
       "470924            806  2018-09-08 10:56:45.0220  2018-09-08 11:10:11.2850   \n",
       "1840200          1457  2018-09-30 14:09:02.9470  2018-09-30 14:33:20.6020   \n",
       "491263           1268  2018-09-08 14:47:38.4920  2018-09-08 15:08:46.9920   \n",
       "\n",
       "         start station id       start station name  start station latitude  \\\n",
       "128037             3260.0  Mercer St & Bleecker St               40.727064   \n",
       "491755              297.0          E 15 St & 3 Ave               40.734232   \n",
       "470924              408.0    Market St & Cherry St               40.710762   \n",
       "1840200             312.0    Allen St & Stanton St               40.722055   \n",
       "491263             3528.0     Steinway St & 23 Ave               40.771394   \n",
       "\n",
       "         start station longitude  end station id  \\\n",
       "128037                -73.996621          3705.0   \n",
       "491755                -73.986923           368.0   \n",
       "470924                -73.994004           408.0   \n",
       "1840200               -73.989111          2002.0   \n",
       "491263                -73.907744          3662.0   \n",
       "\n",
       "                     end station name  end station latitude  \\\n",
       "128037      Thompson St & Bleecker St             40.728401   \n",
       "491755             Carmine St & 6 Ave             40.730386   \n",
       "470924          Market St & Cherry St             40.710762   \n",
       "1840200  Wythe Ave & Metropolitan Ave             40.716887   \n",
       "491263           31 Ave & Steinway St             40.761294   \n",
       "\n",
       "         end station longitude  bikeid    usertype  birth year  gender  \n",
       "128037              -73.999688   26630  Subscriber        1996       1  \n",
       "491755              -74.002150   34850  Subscriber        1968       1  \n",
       "470924              -73.994004   19890  Subscriber        1978       1  \n",
       "1840200             -73.963198   31979    Customer        1980       2  \n",
       "491263              -73.916917   34351    Customer        1992       2  "
      ]
     },
     "execution_count": 7,
     "metadata": {},
     "output_type": "execute_result"
    }
   ],
   "source": [
    "# Sample my dataset\n",
    "citibike.head()"
   ]
  },
  {
   "cell_type": "markdown",
   "metadata": {},
   "source": [
    "# Question 01: What is monthly total ridership in 2018?"
   ]
  },
  {
   "cell_type": "code",
   "execution_count": 8,
   "metadata": {},
   "outputs": [
    {
     "name": "stdout",
     "output_type": "stream",
     "text": [
      "Type: <class 'str'>\n",
      "2018-09-03 11:44:21.4210\n"
     ]
    }
   ],
   "source": [
    "# What is the type of the starttime?\n",
    "print('Type: ' + str(type(citibike['starttime'].values[0])))\n",
    "print(citibike['starttime'].values[0])"
   ]
  },
  {
   "cell_type": "code",
   "execution_count": 9,
   "metadata": {},
   "outputs": [],
   "source": [
    "# Need to convert start_time and stop_time to datetime\n",
    "from datetime import datetime\n",
    "\n",
    "formatString = '%Y-%m-%d %H:%M:%S.%f'\n",
    "\n",
    "# Reference 03: Convert datetime column into \n",
    "citibike['starttime'] = pd.to_datetime(citibike['starttime'], format=formatString)\n",
    "citibike['stoptime'] = pd.to_datetime(citibike['stoptime'], format=formatString)"
   ]
  },
  {
   "cell_type": "code",
   "execution_count": 10,
   "metadata": {},
   "outputs": [
    {
     "name": "stdout",
     "output_type": "stream",
     "text": [
      "Type: <class 'numpy.datetime64'>\n",
      "2018-09-03T11:44:21.421000000\n"
     ]
    }
   ],
   "source": [
    "# Confirm such convertion work, should be datetime64!\n",
    "print('Type: ' + str(type(citibike['starttime'].values[0])))\n",
    "print(citibike['starttime'].values[0])"
   ]
  },
  {
   "cell_type": "code",
   "execution_count": 11,
   "metadata": {},
   "outputs": [
    {
     "data": {
      "text/html": [
       "<div>\n",
       "<style scoped>\n",
       "    .dataframe tbody tr th:only-of-type {\n",
       "        vertical-align: middle;\n",
       "    }\n",
       "\n",
       "    .dataframe tbody tr th {\n",
       "        vertical-align: top;\n",
       "    }\n",
       "\n",
       "    .dataframe thead th {\n",
       "        text-align: right;\n",
       "    }\n",
       "</style>\n",
       "<table border=\"1\" class=\"dataframe\">\n",
       "  <thead>\n",
       "    <tr style=\"text-align: right;\">\n",
       "      <th></th>\n",
       "      <th>starttime</th>\n",
       "    </tr>\n",
       "  </thead>\n",
       "  <tbody>\n",
       "    <tr>\n",
       "      <th>128037</th>\n",
       "      <td>2018-09</td>\n",
       "    </tr>\n",
       "    <tr>\n",
       "      <th>491755</th>\n",
       "      <td>2018-09</td>\n",
       "    </tr>\n",
       "    <tr>\n",
       "      <th>470924</th>\n",
       "      <td>2018-09</td>\n",
       "    </tr>\n",
       "    <tr>\n",
       "      <th>1840200</th>\n",
       "      <td>2018-09</td>\n",
       "    </tr>\n",
       "    <tr>\n",
       "      <th>491263</th>\n",
       "      <td>2018-09</td>\n",
       "    </tr>\n",
       "  </tbody>\n",
       "</table>\n",
       "</div>"
      ],
      "text/plain": [
       "        starttime\n",
       "128037    2018-09\n",
       "491755    2018-09\n",
       "470924    2018-09\n",
       "1840200   2018-09\n",
       "491263    2018-09"
      ]
     },
     "execution_count": 11,
     "metadata": {},
     "output_type": "execute_result"
    }
   ],
   "source": [
    "# Reference 03: Group by month on datetime columns\n",
    "# Create another pandas dataframe that only has 1 columns\n",
    "citibike_monthly_df = citibike.filter(['starttime']) # Monthly dataframe\n",
    "citibike_daily_df = citibike.filter(['starttime'])   # Daily dataframe\n",
    "\n",
    "# Each of the starttime is now converted into YYYY-MM\n",
    "citibike_monthly_df.starttime = pd.to_datetime(citibike_monthly_df.starttime).dt.to_period('m')\n",
    "citibike_daily_df.starttime = pd.to_datetime(citibike_daily_df.starttime).dt.to_period('d')\n",
    "\n",
    "# Confirm if they are correct\n",
    "citibike_daily_df.head()\n",
    "citibike_monthly_df.head()"
   ]
  },
  {
   "cell_type": "code",
   "execution_count": 12,
   "metadata": {},
   "outputs": [],
   "source": [
    "# Get frequency count of ridership data by month and day\n",
    "monthly_answer = citibike_monthly_df.groupby(['starttime']).size()\n",
    "daily_answer = citibike_daily_df.groupby(['starttime']).size()"
   ]
  },
  {
   "cell_type": "code",
   "execution_count": 13,
   "metadata": {},
   "outputs": [
    {
     "data": {
      "text/plain": [
       "pandas.core.series.Series"
      ]
     },
     "execution_count": 13,
     "metadata": {},
     "output_type": "execute_result"
    }
   ],
   "source": [
    "type(monthly_answer)"
   ]
  },
  {
   "cell_type": "code",
   "execution_count": 14,
   "metadata": {},
   "outputs": [
    {
     "data": {
      "text/plain": [
       "<matplotlib.axes._subplots.AxesSubplot at 0x124f23588>"
      ]
     },
     "execution_count": 14,
     "metadata": {},
     "output_type": "execute_result"
    }
   ],
   "source": [
    "monthly_answer.plot(\n",
    "    figsize = (20,10), \n",
    "    kind = 'bar',\n",
    "    title = '2018 Monthly Citibike Ridership Count',\n",
    "    fontsize = 12)"
   ]
  },
  {
   "cell_type": "code",
   "execution_count": 15,
   "metadata": {},
   "outputs": [
    {
     "data": {
      "text/plain": [
       "<matplotlib.axes._subplots.AxesSubplot at 0x125627eb8>"
      ]
     },
     "execution_count": 15,
     "metadata": {},
     "output_type": "execute_result"
    },
    {
     "data": {
      "image/png": "[encoded data removed]",
      "text/plain": [
       "<Figure size 1440x720 with 1 Axes>"
      ]
     },
     "metadata": {
      "needs_background": "light"
     },
     "output_type": "display_data"
    }
   ],
   "source": [
    "temperature_dict = {\n",
    "    'Month':['2018-01', \n",
    "             '2018-02',\n",
    "             '2018-03',\n",
    "             '2018-04',\n",
    "             '2018-05',\n",
    "             '2018-06',\n",
    "             '2018-07',\n",
    "             '2018-08',\n",
    "             '2018-09',\n",
    "             '2018-10',\n",
    "             '2018-11',\n",
    "             '2018-12'],\n",
    "    'Temperature':[32.5, 35.5, 42.5, 53, 62.5, 71.5, 76.5, 75.5, 68, 57, 48, 37.5]\n",
    "}\n",
    "\n",
    "temperature_df = pd.DataFrame.from_dict(temperature_dict)\n",
    "\n",
    "temperature_df.plot(\n",
    "    figsize = (20,10), \n",
    "    kind = 'line',\n",
    "    title = '2018 Average Temperature',\n",
    "    fontsize = 12,\n",
    "    linewidth = 4.0, \n",
    "    markeredgewidth = 10.0,\n",
    "    linestyle = '--', \n",
    "    marker = 'o')"
   ]
  },
  {
   "cell_type": "code",
   "execution_count": 36,
   "metadata": {},
   "outputs": [
    {
     "data": {
      "text/plain": [
       "<matplotlib.axes._subplots.AxesSubplot at 0x17813fba8>"
      ]
     },
     "execution_count": 36,
     "metadata": {},
     "output_type": "execute_result"
    },
    {
     "data": {
      "image/png": "[encoded data removed]",
      "text/plain": [
       "<Figure size 1440x720 with 1 Axes>"
      ]
     },
     "metadata": {
      "needs_background": "light"
     },
     "output_type": "display_data"
    }
   ],
   "source": [
    "daily_answer.plot(\n",
    "    figsize = (20,10), \n",
    "    kind = 'bar',\n",
    "    title = '2018 Monthly Citibike Ridership Count',\n",
    "    fontsize = 12)"
   ]
  },
  {
   "cell_type": "markdown",
   "metadata": {},
   "source": [
    "# Question 02: Pending"
   ]
  },
  {
   "cell_type": "code",
   "execution_count": 17,
   "metadata": {},
   "outputs": [],
   "source": [
    "# Enter Python & Pandas Code here :)"
   ]
  },
  {
   "cell_type": "markdown",
   "metadata": {},
   "source": [
    "# Question 03: What is the most popular station?"
   ]
  },
  {
   "cell_type": "code",
   "execution_count": 18,
   "metadata": {},
   "outputs": [],
   "source": [
    "# Most popular trip (Start|end station)\n",
    "# Most busy start station\n",
    "# Most busy end station\n",
    "# Top 10 one way direction...\n",
    "\n",
    "# School station analysis (Where do they go?)\n",
    "# Male and Female trips\n",
    "# Age Group\n",
    "\n",
    "# Longest trip (Distance formula)\n",
    "# Shortest trip (Distance formula)\n",
    "# Holiday trip (Federal Holiday)\n",
    "\n",
    "# Number of conected trip ...\n",
    "# Start and end station by the same user?\n",
    "\n",
    "# Analysis on commute habbit\n",
    "# Year of Birth & Gender (Start time and station)\n",
    "# Morning starting on the train station and ending on the same station"
   ]
  }
 ],
 "metadata": {
  "kernelspec": {
   "display_name": "Python 3",
   "language": "python",
   "name": "python3"
  },
  "language_info": {
   "codemirror_mode": {
    "name": "ipython",
    "version": 3
   },
   "file_extension": ".py",
   "mimetype": "text/x-python",
   "name": "python",
   "nbconvert_exporter": "python",
   "pygments_lexer": "ipython3",
   "version": "3.7.3"
  }
 },
 "nbformat": 4,
 "nbformat_minor": 2
}
